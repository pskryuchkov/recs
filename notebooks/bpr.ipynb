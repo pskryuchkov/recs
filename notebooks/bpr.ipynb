{
 "cells": [
  {
   "cell_type": "code",
   "execution_count": 1,
   "id": "6f9368fd",
   "metadata": {},
   "outputs": [
    {
     "name": "stdout",
     "output_type": "stream",
     "text": [
      "FM model is only supported on Linux.\n",
      "Windows executable can be found at http://www.libfm.org.\n"
     ]
    }
   ],
   "source": [
    "import numpy as np\n",
    "import pandas as pd\n",
    "\n",
    "import faiss\n",
    "from cornac import Experiment\n",
    "from cornac.eval_methods import RatioSplit\n",
    "from cornac.models import BPR\n",
    "from cornac.metrics import Precision, Recall"
   ]
  },
  {
   "cell_type": "code",
   "execution_count": 2,
   "id": "b4c16bec",
   "metadata": {},
   "outputs": [],
   "source": [
    "pd.options.mode.chained_assignment = None"
   ]
  },
  {
   "cell_type": "code",
   "execution_count": 3,
   "id": "3a6dc7dc",
   "metadata": {},
   "outputs": [],
   "source": [
    "df = pd.read_csv(\"../data/spotify_playlists.csv\")"
   ]
  },
  {
   "cell_type": "code",
   "execution_count": 4,
   "id": "2340c513",
   "metadata": {},
   "outputs": [],
   "source": [
    "playlist_df = df[['playlist_id', 'track_id']]\n",
    "playlist_df['feedback'] = 1\n",
    "playlist_df = playlist_df.drop_duplicates()\n",
    "\n",
    "data = playlist_df.values.tolist()"
   ]
  },
  {
   "cell_type": "code",
   "execution_count": 5,
   "id": "fed3209b",
   "metadata": {},
   "outputs": [
    {
     "name": "stdout",
     "output_type": "stream",
     "text": [
      "\n",
      "TEST:\n",
      "...\n",
      "    | Precision@10 | Recall@10 | Train (s) | Test (s)\n",
      "--- + ------------ + --------- + --------- + --------\n",
      "BPR |       0.0069 |    0.0083 |   33.0046 | 293.3275\n",
      "\n",
      "CPU times: user 5min 21s, sys: 3.8 s, total: 5min 25s\n",
      "Wall time: 5min 27s\n"
     ]
    }
   ],
   "source": [
    "%%time\n",
    "\n",
    "rs = RatioSplit(data=data, test_size=0.2, rating_threshold=0.5)\n",
    "\n",
    "bpr = BPR(k=300)\n",
    "metrics = [Precision(k=10), Recall(k=10)]\n",
    "\n",
    "Experiment(eval_method=rs, models=[bpr], metrics=metrics, \n",
    "           user_based=True, save_dir=\"../logs\").run()"
   ]
  },
  {
   "cell_type": "code",
   "execution_count": 6,
   "id": "9ba45632",
   "metadata": {},
   "outputs": [
    {
     "name": "stdout",
     "output_type": "stream",
     "text": [
      "142543\n"
     ]
    }
   ],
   "source": [
    "index = faiss.IndexFlat(bpr.i_factors.shape[1])   \n",
    "index.add(bpr.i_factors)          \n",
    "print(index.ntotal)"
   ]
  },
  {
   "cell_type": "markdown",
   "id": "2503c2fe",
   "metadata": {},
   "source": [
    "### Validation"
   ]
  },
  {
   "cell_type": "code",
   "execution_count": 7,
   "id": "ff9fd913",
   "metadata": {},
   "outputs": [],
   "source": [
    "tracks_df = df[['track_id', 'artist_name', 'track_name']].drop_duplicates()\n",
    "id2name = {r['track_id']: [r['artist_name'], r['track_name']] for i, r in tracks_df.iterrows()}\n",
    "\n",
    "idx2name = {v: id2name[u] for u, v in bpr.train_set.iid_map.items()}"
   ]
  },
  {
   "cell_type": "code",
   "execution_count": 8,
   "id": "a5322d02",
   "metadata": {},
   "outputs": [],
   "source": [
    "def search_track_id(artist, track):\n",
    "    return df[df['artist_name'].str.contains(artist) & \n",
    "              df['track_name'].str.contains(track)].iloc[0]['track_id']\n",
    "\n",
    "\n",
    "def similar_tracks(artist, track, topn=10):\n",
    "    target_id = search_track_id(artist, track)\n",
    "    target_idx = bpr.train_set.iid_map[target_id]\n",
    "    dist, idx = index.search(np.array([bpr.i_factors[target_idx]]), topn + 1)\n",
    "    similar_idx = [i for i in idx[0] if i != target_idx]\n",
    "    return [idx2name[s] for s in similar_idx]"
   ]
  },
  {
   "cell_type": "code",
   "execution_count": 9,
   "id": "b37a6306",
   "metadata": {},
   "outputs": [
    {
     "data": {
      "text/plain": [
       "[['The Chainsmokers', 'Closer'],\n",
       " ['Migos', 'Bad and Boujee (feat. Lil Uzi Vert)'],\n",
       " ['Diljit Dosanjh', 'Do You Know'],\n",
       " ['Gülben Ergen', 'Şıkır Şıkır'],\n",
       " ['Post Malone', 'Congratulations'],\n",
       " ['Audio Adrenaline', 'Love Was Stronger'],\n",
       " ['Feder', 'Blind (feat. Emmi) - Radio Edit'],\n",
       " ['Khalid', 'Location'],\n",
       " ['Plastilina Mosh', 'Pervert Pop Song'],\n",
       " ['Justin Bieber', 'Sorry']]"
      ]
     },
     "execution_count": 9,
     "metadata": {},
     "output_type": "execute_result"
    }
   ],
   "source": [
    "similar_tracks(\"The xx\", \"Intro\")"
   ]
  },
  {
   "cell_type": "code",
   "execution_count": 10,
   "id": "34a21250",
   "metadata": {},
   "outputs": [
    {
     "data": {
      "text/plain": [
       "[['Kendrick Lamar', 'HUMBLE.'],\n",
       " ['Nathan Sykes', 'Give It Up'],\n",
       " ['Aminé', 'Caroline'],\n",
       " ['The Chainsmokers', 'Closer'],\n",
       " ['Lil Uzi Vert', 'XO TOUR Llif3'],\n",
       " ['R. Kelly', 'Ignition - Remix'],\n",
       " ['Childish Gambino', 'IV. sweatpants'],\n",
       " ['Diamond Rings', 'Day & Night'],\n",
       " ['Flume', 'Depth Charge'],\n",
       " ['Simon & Garfunkel', 'Sparrow']]"
      ]
     },
     "execution_count": 10,
     "metadata": {},
     "output_type": "execute_result"
    }
   ],
   "source": [
    "similar_tracks(\"Daft Punk\", \"One More Time\")"
   ]
  },
  {
   "cell_type": "code",
   "execution_count": 11,
   "id": "b41ff98f",
   "metadata": {},
   "outputs": [
    {
     "data": {
      "text/plain": [
       "[['Kendrick Lamar', 'HUMBLE.'],\n",
       " ['X Ambassadors', 'Unsteady'],\n",
       " ['Chris Knight', \"It Ain't Easy Being Me\"],\n",
       " ['Drake', 'One Dance'],\n",
       " ['The Chainsmokers', 'Closer'],\n",
       " ['7eventh Time Down', 'God Is on the Move'],\n",
       " ['112', 'Just A Little While'],\n",
       " ['Sophie Hunger', 'Die Ganze Welt'],\n",
       " ['Logic', '1-800-273-8255'],\n",
       " ['Black Lips', 'Modern Art']]"
      ]
     },
     "execution_count": 11,
     "metadata": {},
     "output_type": "execute_result"
    }
   ],
   "source": [
    "similar_tracks(\"Nirvana\", \"Come As You Are\")"
   ]
  },
  {
   "cell_type": "code",
   "execution_count": 12,
   "id": "f1f6e6cf",
   "metadata": {},
   "outputs": [
    {
     "data": {
      "text/plain": [
       "[['Misery Index', 'You Lose'],\n",
       " ['Mike WiLL Made-It', 'Game For A Lame'],\n",
       " ['KYLE', 'iSpy (feat. Lil Yachty)'],\n",
       " ['Genesis', 'Ripples - 2007 - Remaster'],\n",
       " ['The Velvet Underground', 'Heroin'],\n",
       " ['Iggy Grande', 'Get Your Freak On - Trap Mix'],\n",
       " ['MYNGA', 'Back Home'],\n",
       " ['Nightmares On Wax', 'Hear in colour'],\n",
       " ['Mike Posner', 'I Took A Pill In Ibiza - Seeb Remix'],\n",
       " ['Monsters Of Folk', 'Termazcal']]"
      ]
     },
     "execution_count": 12,
     "metadata": {},
     "output_type": "execute_result"
    }
   ],
   "source": [
    "similar_tracks(\"Beatles\", \"Yesterday\")"
   ]
  },
  {
   "cell_type": "code",
   "execution_count": 13,
   "id": "621fe2b0",
   "metadata": {},
   "outputs": [
    {
     "data": {
      "text/plain": [
       "[['The Chainsmokers', 'Closer'],\n",
       " ['Drake', 'One Dance'],\n",
       " ['Ana Tijoux', 'Somos Sur'],\n",
       " ['Florida Georgia Line', 'H.O.L.Y.'],\n",
       " ['Calvin Harris', 'This Is What You Came For'],\n",
       " ['Justin Timberlake', 'SexyBack'],\n",
       " ['Post Malone', 'Congratulations'],\n",
       " ['Kendrick Lamar', 'HUMBLE.'],\n",
       " ['Gryffin', 'Love In Ruins (feat. Sinead Harnett)'],\n",
       " ['Maxwell', 'Bad Habits - uncut']]"
      ]
     },
     "execution_count": 13,
     "metadata": {},
     "output_type": "execute_result"
    }
   ],
   "source": [
    "similar_tracks(\"Olive\", \"You're Not Alone\")"
   ]
  },
  {
   "cell_type": "code",
   "execution_count": null,
   "id": "bd1da592",
   "metadata": {},
   "outputs": [],
   "source": []
  }
 ],
 "metadata": {
  "kernelspec": {
   "display_name": "Python 3 (ipykernel)",
   "language": "python",
   "name": "python3"
  },
  "language_info": {
   "codemirror_mode": {
    "name": "ipython",
    "version": 3
   },
   "file_extension": ".py",
   "mimetype": "text/x-python",
   "name": "python",
   "nbconvert_exporter": "python",
   "pygments_lexer": "ipython3",
   "version": "3.9.6"
  }
 },
 "nbformat": 4,
 "nbformat_minor": 5
}
