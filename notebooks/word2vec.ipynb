{
 "cells": [
  {
   "cell_type": "code",
   "execution_count": 1,
   "id": "87ad80dd",
   "metadata": {},
   "outputs": [
    {
     "name": "stderr",
     "output_type": "stream",
     "text": [
      "/Users/pasha/Library/Python/3.9/lib/python/site-packages/urllib3/__init__.py:34: NotOpenSSLWarning: urllib3 v2.0 only supports OpenSSL 1.1.1+, currently the 'ssl' module is compiled with 'LibreSSL 2.8.3'. See: https://github.com/urllib3/urllib3/issues/3020\n",
      "  warnings.warn(\n"
     ]
    }
   ],
   "source": [
    "import numpy as np\n",
    "import pandas as pd\n",
    "\n",
    "from gensim.models import Word2Vec"
   ]
  },
  {
   "cell_type": "code",
   "execution_count": 2,
   "id": "e81f7e63",
   "metadata": {},
   "outputs": [],
   "source": [
    "pd.options.mode.chained_assignment = None"
   ]
  },
  {
   "cell_type": "markdown",
   "id": "4f4ee8af",
   "metadata": {},
   "source": [
    "### Prepare data"
   ]
  },
  {
   "cell_type": "code",
   "execution_count": 3,
   "id": "9c1b4e32",
   "metadata": {},
   "outputs": [],
   "source": [
    "df = pd.read_csv(\"../data/spotify_playlists.csv\")"
   ]
  },
  {
   "cell_type": "code",
   "execution_count": 4,
   "id": "173fd3d9",
   "metadata": {},
   "outputs": [
    {
     "data": {
      "text/html": [
       "<div>\n",
       "<style scoped>\n",
       "    .dataframe tbody tr th:only-of-type {\n",
       "        vertical-align: middle;\n",
       "    }\n",
       "\n",
       "    .dataframe tbody tr th {\n",
       "        vertical-align: top;\n",
       "    }\n",
       "\n",
       "    .dataframe thead th {\n",
       "        text-align: right;\n",
       "    }\n",
       "</style>\n",
       "<table border=\"1\" class=\"dataframe\">\n",
       "  <thead>\n",
       "    <tr style=\"text-align: right;\">\n",
       "      <th></th>\n",
       "      <th>playlist_id</th>\n",
       "      <th>track_id</th>\n",
       "      <th>track_uri</th>\n",
       "      <th>playlist_position</th>\n",
       "      <th>artist_name</th>\n",
       "      <th>track_name</th>\n",
       "    </tr>\n",
       "  </thead>\n",
       "  <tbody>\n",
       "    <tr>\n",
       "      <th>0</th>\n",
       "      <td>9615</td>\n",
       "      <td>146723</td>\n",
       "      <td>spotify:track:6w2VaBGWcColW05nZROWvS</td>\n",
       "      <td>0</td>\n",
       "      <td>Tory Lanez</td>\n",
       "      <td>To D.R.E.A.M.</td>\n",
       "    </tr>\n",
       "    <tr>\n",
       "      <th>1</th>\n",
       "      <td>9615</td>\n",
       "      <td>158343</td>\n",
       "      <td>spotify:track:7hMqz88kcK2Tx6wBka9INF</td>\n",
       "      <td>1</td>\n",
       "      <td>Tory Lanez</td>\n",
       "      <td>All The Girls</td>\n",
       "    </tr>\n",
       "    <tr>\n",
       "      <th>2</th>\n",
       "      <td>9615</td>\n",
       "      <td>123985</td>\n",
       "      <td>spotify:track:5rqfg8Hz5D1aCcn2XUxzNA</td>\n",
       "      <td>2</td>\n",
       "      <td>Tory Lanez</td>\n",
       "      <td>Traphouse</td>\n",
       "    </tr>\n",
       "    <tr>\n",
       "      <th>3</th>\n",
       "      <td>9615</td>\n",
       "      <td>117440</td>\n",
       "      <td>spotify:track:5Z2S8VemQCfM02SLq8o5cR</td>\n",
       "      <td>3</td>\n",
       "      <td>Tory Lanez</td>\n",
       "      <td>One Day</td>\n",
       "    </tr>\n",
       "    <tr>\n",
       "      <th>4</th>\n",
       "      <td>9615</td>\n",
       "      <td>66611</td>\n",
       "      <td>spotify:track:39Y7nKwnEoMSfzbSVcAL0J</td>\n",
       "      <td>4</td>\n",
       "      <td>Tory Lanez</td>\n",
       "      <td>B.L.O.W.</td>\n",
       "    </tr>\n",
       "  </tbody>\n",
       "</table>\n",
       "</div>"
      ],
      "text/plain": [
       "   playlist_id  track_id                             track_uri  \\\n",
       "0         9615    146723  spotify:track:6w2VaBGWcColW05nZROWvS   \n",
       "1         9615    158343  spotify:track:7hMqz88kcK2Tx6wBka9INF   \n",
       "2         9615    123985  spotify:track:5rqfg8Hz5D1aCcn2XUxzNA   \n",
       "3         9615    117440  spotify:track:5Z2S8VemQCfM02SLq8o5cR   \n",
       "4         9615     66611  spotify:track:39Y7nKwnEoMSfzbSVcAL0J   \n",
       "\n",
       "   playlist_position artist_name     track_name  \n",
       "0                  0  Tory Lanez  To D.R.E.A.M.  \n",
       "1                  1  Tory Lanez  All The Girls  \n",
       "2                  2  Tory Lanez      Traphouse  \n",
       "3                  3  Tory Lanez        One Day  \n",
       "4                  4  Tory Lanez       B.L.O.W.  "
      ]
     },
     "execution_count": 4,
     "metadata": {},
     "output_type": "execute_result"
    }
   ],
   "source": [
    "df.head()"
   ]
  },
  {
   "cell_type": "code",
   "execution_count": 5,
   "id": "874e4345",
   "metadata": {},
   "outputs": [
    {
     "name": "stdout",
     "output_type": "stream",
     "text": [
      "tracks: 164576, playlists: 14750\n"
     ]
    }
   ],
   "source": [
    "n_track = df['track_id'].unique().shape[0]\n",
    "n_playlist = df['playlist_id'].unique().shape[0]\n",
    "print('tracks: {}, playlists: {}'.format(n_track, n_playlist))"
   ]
  },
  {
   "cell_type": "code",
   "execution_count": 6,
   "id": "7cff4cc1",
   "metadata": {},
   "outputs": [],
   "source": [
    "N_TOP = 10\n",
    "\n",
    "playlists_df = df.groupby('playlist_id')['track_id'].agg(neighbours=list)\n",
    "playlists_df['n_neighbours'] = playlists_df['neighbours'].apply(len)\n",
    "playlists_df = playlists_df[playlists_df['n_neighbours'] >= N_TOP].drop('n_neighbours', axis=1)\n",
    "\n",
    "playlists = playlists_df['neighbours'].to_list()"
   ]
  },
  {
   "cell_type": "code",
   "execution_count": 7,
   "id": "e6b258e8",
   "metadata": {},
   "outputs": [
    {
     "data": {
      "text/plain": [
       "14750"
      ]
     },
     "execution_count": 7,
     "metadata": {},
     "output_type": "execute_result"
    }
   ],
   "source": [
    "len(playlists)"
   ]
  },
  {
   "cell_type": "code",
   "execution_count": 8,
   "id": "36f4e078",
   "metadata": {},
   "outputs": [
    {
     "name": "stdout",
     "output_type": "stream",
     "text": [
      "CPU times: user 48.6 s, sys: 195 ms, total: 48.8 s\n",
      "Wall time: 49.1 s\n"
     ]
    }
   ],
   "source": [
    "%%time\n",
    "\n",
    "df = df.merge(\n",
    "        playlists_df,\n",
    "        left_on='playlist_id',\n",
    "        right_index=True\n",
    "    )\n",
    "\n",
    "df['neighbours'] = df.apply(lambda r: [n for n in r['neighbours'] if n != r['track_id']], axis=1)"
   ]
  },
  {
   "cell_type": "markdown",
   "id": "f2b25ff6",
   "metadata": {},
   "source": [
    "### Train and metrics"
   ]
  },
  {
   "cell_type": "code",
   "execution_count": 9,
   "id": "7aa3dc95",
   "metadata": {},
   "outputs": [],
   "source": [
    "DIM = 600\n",
    "EPOCHS = 20\n",
    "N_TEST = 1000\n",
    "\n",
    "model = Word2Vec(playlists, min_count=1, vector_size=DIM, epochs=EPOCHS)"
   ]
  },
  {
   "cell_type": "code",
   "execution_count": 10,
   "id": "1f338471",
   "metadata": {},
   "outputs": [
    {
     "name": "stdout",
     "output_type": "stream",
     "text": [
      "CPU times: user 1min 29s, sys: 3.42 s, total: 1min 33s\n",
      "Wall time: 11.7 s\n"
     ]
    }
   ],
   "source": [
    "%%time\n",
    "\n",
    "def search_top(id, topn=N_TOP):\n",
    "    return [item[0] for item in model.wv.most_similar(id, topn=topn)]\n",
    "\n",
    "\n",
    "test_df = df.sample(N_TEST)\n",
    "test_df['neighbours_pred'] = test_df['track_id'].apply(lambda x: search_top(x, N_TOP))"
   ]
  },
  {
   "cell_type": "code",
   "execution_count": 11,
   "id": "6e068e41",
   "metadata": {},
   "outputs": [],
   "source": [
    "def precision_at_k(true, pred):\n",
    "    return len(set(pred) & set(true)) / len(pred)\n",
    "\n",
    "\n",
    "def recall_at_k(true, pred):\n",
    "    return len(set(pred) & set(true)) / len(true)\n",
    "\n",
    "\n",
    "precision = test_df.apply(lambda r: precision_at_k(r['neighbours'], r['neighbours_pred']), axis=1).mean()\n",
    "recall = test_df.apply(lambda r: recall_at_k(r['neighbours'], r['neighbours_pred']), axis=1).mean()"
   ]
  },
  {
   "cell_type": "code",
   "execution_count": 12,
   "id": "6f42da17",
   "metadata": {},
   "outputs": [
    {
     "name": "stdout",
     "output_type": "stream",
     "text": [
      "Word2Vec precision: 0.070800\n",
      "Word2Vec recall: 0.013337\n"
     ]
    }
   ],
   "source": [
    "print(\"Word2Vec precision: {:.6f}\".format(precision))\n",
    "print(\"Word2Vec recall: {:.6f}\".format(recall))"
   ]
  },
  {
   "cell_type": "markdown",
   "id": "71643d2b",
   "metadata": {},
   "source": [
    "### Validation"
   ]
  },
  {
   "cell_type": "code",
   "execution_count": 13,
   "id": "1697cc53",
   "metadata": {},
   "outputs": [],
   "source": [
    "id2name = {}\n",
    "for i, t in df[['track_id', 'artist_name', 'track_name']].drop_duplicates().iterrows():\n",
    "    id2name[t['track_id']] = [t['artist_name'], t['track_name']]"
   ]
  },
  {
   "cell_type": "code",
   "execution_count": 14,
   "id": "42b7ad81",
   "metadata": {},
   "outputs": [],
   "source": [
    "def search_track_id(track, artist):\n",
    "    return df[df['artist_name'].str.contains(track) & \n",
    "              df['track_name'].str.contains(artist)].iloc[0]['track_id']\n",
    "\n",
    "\n",
    "def similar_tracks(track, artist, topn=10):\n",
    "    target_id = search_track_id(track, artist)\n",
    "    return [id2name[id] for id in \n",
    "            [t[0] for t in model.wv.most_similar(target_id, topn=topn)]]"
   ]
  },
  {
   "cell_type": "code",
   "execution_count": 15,
   "id": "2afe3dd0",
   "metadata": {},
   "outputs": [
    {
     "data": {
      "text/plain": [
       "[['The Naked And Famous', 'Young Blood'],\n",
       " ['MisterWives', 'Our Own House'],\n",
       " ['Foster The People', 'Call It What You Want'],\n",
       " ['Bastille', 'Oblivion'],\n",
       " ['The Neighbourhood', 'Sweater Weather'],\n",
       " ['Imagine Dragons', 'I Bet My Life'],\n",
       " ['Bastille', 'Flaws'],\n",
       " ['George Ezra', 'Barcelona'],\n",
       " ['Two Door Cinema Club', 'Changing Of The Seasons'],\n",
       " ['Lorde', 'Team']]"
      ]
     },
     "execution_count": 15,
     "metadata": {},
     "output_type": "execute_result"
    }
   ],
   "source": [
    "similar_tracks(\"The xx\", \"Intro\")"
   ]
  },
  {
   "cell_type": "code",
   "execution_count": 16,
   "id": "000ed7f4",
   "metadata": {},
   "outputs": [
    {
     "data": {
      "text/plain": [
       "[['Skee-Lo', 'I Wish'],\n",
       " ['Brian McKnight', 'Back At One'],\n",
       " ['C & C Music Factory', 'Gonna Make You Sweat (Everybody Dance Now)'],\n",
       " ['Aqua', 'Barbie Girl'],\n",
       " ['Eiffel 65', 'Blue [Da Ba Dee]'],\n",
       " ['La Roux', 'Bulletproof'],\n",
       " ['Karmin', 'Brokenhearted'],\n",
       " ['Technotronic', 'Pump Up The Jam - Edit'],\n",
       " ['Jennifer Lopez', 'Waiting for Tonight'],\n",
       " ['Aloe Blacc', 'I Need a Dollar']]"
      ]
     },
     "execution_count": 16,
     "metadata": {},
     "output_type": "execute_result"
    }
   ],
   "source": [
    "similar_tracks(\"Daft Punk\", \"One More Time\")"
   ]
  },
  {
   "cell_type": "code",
   "execution_count": 17,
   "id": "4d8c0b8a",
   "metadata": {},
   "outputs": [
    {
     "data": {
      "text/plain": [
       "[['Beastie Boys', 'Fight For Your Right'],\n",
       " ['Santana', 'Smooth'],\n",
       " ['Led Zeppelin', 'Whole Lotta Love'],\n",
       " ['Jet', 'Are You Gonna Be My Girl'],\n",
       " ['Depeche Mode', 'Enjoy The Silence - Single Mix'],\n",
       " ['Mr. Big', 'To Be With You - 2010 Remastered Version'],\n",
       " ['Metallica', 'Master Of Puppets'],\n",
       " ['Pink Floyd', 'Time'],\n",
       " ['America', 'A Horse with No Name'],\n",
       " ['Eric Clapton', 'Wonderful Tonight']]"
      ]
     },
     "execution_count": 17,
     "metadata": {},
     "output_type": "execute_result"
    }
   ],
   "source": [
    "similar_tracks(\"Nirvana\", \"Come As You Are\")"
   ]
  },
  {
   "cell_type": "code",
   "execution_count": 18,
   "id": "b7b8d72d",
   "metadata": {},
   "outputs": [
    {
     "data": {
      "text/plain": [
       "[['The Beatles', 'Eleanor Rigby - Remastered'],\n",
       " ['The Beatles', 'Blackbird - Remastered'],\n",
       " ['The Beatles', 'Something - Remastered'],\n",
       " ['George Harrison', 'My Sweet Lord'],\n",
       " ['The Beatles', 'Help! - Remastered'],\n",
       " ['Buddy Holly', 'Everyday - Single Version'],\n",
       " ['The Smiths', 'This Charming Man - 2011 Remastered Version'],\n",
       " ['Neil Young', 'Heart of Gold'],\n",
       " ['Kool & The Gang', 'Jungle Boogie'],\n",
       " ['Dion', 'The Wanderer']]"
      ]
     },
     "execution_count": 18,
     "metadata": {},
     "output_type": "execute_result"
    }
   ],
   "source": [
    "similar_tracks(\"Beatles\", \"Yesterday\")"
   ]
  },
  {
   "cell_type": "code",
   "execution_count": 19,
   "id": "f3bea93e",
   "metadata": {},
   "outputs": [
    {
     "data": {
      "text/plain": [
       "[['Cœur De Pirate', 'Comme des enfants'],\n",
       " ['Kavinsky', 'Nightcall'],\n",
       " ['Sufjan Stevens', 'No Shade in the Shadow of The Cross'],\n",
       " ['Télépopmusik', 'Breathe'],\n",
       " ['Janelle Monáe', 'Tightrope - feat. Big Boi'],\n",
       " ['Johann Sebastian Bach',\n",
       "  'Unaccompanied Cello Suite No. 1 in G Major, BWV 1007: Prélude'],\n",
       " ['Avicii', 'Levels - Skrillex Remix'],\n",
       " ['Massive Attack', 'Teardrop'],\n",
       " ['Gym Class Heroes', 'The Fighter - feat. Ryan Tedder'],\n",
       " ['Father John Misty', 'Chateau Lobby #4 (in C for Two Virgins)']]"
      ]
     },
     "execution_count": 19,
     "metadata": {},
     "output_type": "execute_result"
    }
   ],
   "source": [
    "similar_tracks(\"Olive\", \"You're Not Alone\")"
   ]
  }
 ],
 "metadata": {
  "kernelspec": {
   "display_name": "Python 3 (ipykernel)",
   "language": "python",
   "name": "python3"
  },
  "language_info": {
   "codemirror_mode": {
    "name": "ipython",
    "version": 3
   },
   "file_extension": ".py",
   "mimetype": "text/x-python",
   "name": "python",
   "nbconvert_exporter": "python",
   "pygments_lexer": "ipython3",
   "version": "3.9.6"
  }
 },
 "nbformat": 4,
 "nbformat_minor": 5
}
