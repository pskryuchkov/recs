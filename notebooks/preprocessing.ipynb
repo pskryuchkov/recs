{
 "cells": [
  {
   "cell_type": "code",
   "execution_count": 1,
   "id": "84802e08",
   "metadata": {},
   "outputs": [],
   "source": [
    "import glob\n",
    "import json\n",
    "from random import sample\n",
    "\n",
    "import pandas as pd\n",
    "from tqdm import tqdm\n",
    "from sklearn.preprocessing import LabelEncoder"
   ]
  },
  {
   "cell_type": "code",
   "execution_count": 2,
   "id": "61d833fc",
   "metadata": {},
   "outputs": [],
   "source": [
    "data_files = glob.glob(\"../data/spotify_million_playlist_dataset/data/*.json\")"
   ]
  },
  {
   "cell_type": "code",
   "execution_count": 3,
   "id": "1ba5ab7e",
   "metadata": {},
   "outputs": [
    {
     "name": "stderr",
     "output_type": "stream",
     "text": [
      "100%|███████████████████████████████████████████| 20/20 [00:01<00:00, 11.28it/s]\n"
     ]
    }
   ],
   "source": [
    "N_FILES = 20\n",
    "\n",
    "data = []\n",
    "\n",
    "for fn in tqdm(sample(data_files, N_FILES)):\n",
    "    with open(fn, \"r\") as file:\n",
    "        data += json.load(file)['playlists']"
   ]
  },
  {
   "cell_type": "code",
   "execution_count": 4,
   "id": "e54861ed",
   "metadata": {},
   "outputs": [
    {
     "name": "stderr",
     "output_type": "stream",
     "text": [
      "100%|█████████████████████████████████| 20000/20000 [00:00<00:00, 114936.53it/s]\n"
     ]
    }
   ],
   "source": [
    "MIN_TRACKS, MAX_TRACKS = 10 + 1, 100\n",
    "\n",
    "playlists = []\n",
    "\n",
    "for pl in tqdm(data):\n",
    "    n_tracks = len(pl[\"tracks\"])\n",
    "    \n",
    "    if n_tracks >= MIN_TRACKS and n_tracks <= MAX_TRACKS:\n",
    "        playlists += [{\"pos\": track[\"pos\"], \n",
    "                       \"artist_name\": track[\"artist_name\"], \n",
    "                       \"track_name\": track[\"track_name\"], \n",
    "                       \"track_uri\": track[\"track_uri\"], \n",
    "                       \"pos\": track[\"pos\"], \n",
    "                       \"pid\": pl[\"pid\"]}\n",
    "                       for track in pl[\"tracks\"]]"
   ]
  },
  {
   "cell_type": "code",
   "execution_count": 5,
   "id": "0877c74f",
   "metadata": {},
   "outputs": [],
   "source": [
    "df = pd.DataFrame(playlists)\n",
    "df = df.rename(columns={\"pid\": \"playlist_id\", \"pos\": \"playlist_position\"})\n",
    "\n",
    "track_encoder = LabelEncoder()\n",
    "df[\"track_id\"] = track_encoder.fit_transform(df[\"track_uri\"])\n",
    "\n",
    "playlist_encoder = LabelEncoder()\n",
    "df[\"playlist_id\"] = playlist_encoder.fit_transform(df[\"playlist_id\"])\n",
    "\n",
    "df = df[[\"playlist_id\", \"track_id\", \"track_uri\", \"playlist_position\", \"artist_name\", \"track_name\"]]\n",
    "df.to_csv(\"../data/spotify_playlists.csv\", index=False)"
   ]
  },
  {
   "cell_type": "code",
   "execution_count": 6,
   "id": "632f615c",
   "metadata": {},
   "outputs": [
    {
     "name": "stdout",
     "output_type": "stream",
     "text": [
      "Unique tracks: 163517\n",
      "Playlists: 14770\n"
     ]
    }
   ],
   "source": [
    "n_tracks = df[\"track_id\"].unique().shape[0]\n",
    "n_playlists = df[\"playlist_id\"].unique().shape[0]\n",
    "print(\"Unique tracks: {}\".format(n_tracks))\n",
    "print(\"Playlists: {}\".format(n_playlists))"
   ]
  },
  {
   "cell_type": "code",
   "execution_count": 7,
   "id": "0f717d57",
   "metadata": {},
   "outputs": [
    {
     "data": {
      "text/html": [
       "<div>\n",
       "<style scoped>\n",
       "    .dataframe tbody tr th:only-of-type {\n",
       "        vertical-align: middle;\n",
       "    }\n",
       "\n",
       "    .dataframe tbody tr th {\n",
       "        vertical-align: top;\n",
       "    }\n",
       "\n",
       "    .dataframe thead th {\n",
       "        text-align: right;\n",
       "    }\n",
       "</style>\n",
       "<table border=\"1\" class=\"dataframe\">\n",
       "  <thead>\n",
       "    <tr style=\"text-align: right;\">\n",
       "      <th></th>\n",
       "      <th>playlist_id</th>\n",
       "      <th>track_id</th>\n",
       "      <th>track_uri</th>\n",
       "      <th>playlist_position</th>\n",
       "      <th>artist_name</th>\n",
       "      <th>track_name</th>\n",
       "    </tr>\n",
       "  </thead>\n",
       "  <tbody>\n",
       "    <tr>\n",
       "      <th>0</th>\n",
       "      <td>11801</td>\n",
       "      <td>98552</td>\n",
       "      <td>spotify:track:4gowy3WT6D1yhMLgRBlf9C</td>\n",
       "      <td>0</td>\n",
       "      <td>Drake</td>\n",
       "      <td>Change Locations</td>\n",
       "    </tr>\n",
       "    <tr>\n",
       "      <th>1</th>\n",
       "      <td>11801</td>\n",
       "      <td>149313</td>\n",
       "      <td>spotify:track:76kyKtPLsFbQkdQ86QrkF4</td>\n",
       "      <td>1</td>\n",
       "      <td>Drake</td>\n",
       "      <td>Plastic Bag</td>\n",
       "    </tr>\n",
       "    <tr>\n",
       "      <th>2</th>\n",
       "      <td>11801</td>\n",
       "      <td>116025</td>\n",
       "      <td>spotify:track:5W7xC99N2Zzfh69r7I7zWK</td>\n",
       "      <td>2</td>\n",
       "      <td>Rick Ross</td>\n",
       "      <td>Aston Martin Music</td>\n",
       "    </tr>\n",
       "    <tr>\n",
       "      <th>3</th>\n",
       "      <td>11801</td>\n",
       "      <td>77328</td>\n",
       "      <td>spotify:track:3fyMH1t6UPeR5croea9PrR</td>\n",
       "      <td>3</td>\n",
       "      <td>Drake</td>\n",
       "      <td>Best I Ever Had</td>\n",
       "    </tr>\n",
       "    <tr>\n",
       "      <th>4</th>\n",
       "      <td>11801</td>\n",
       "      <td>126428</td>\n",
       "      <td>spotify:track:60geMByGdlcGGMR5R5ZjHE</td>\n",
       "      <td>4</td>\n",
       "      <td>Drake</td>\n",
       "      <td>I'm Goin In</td>\n",
       "    </tr>\n",
       "    <tr>\n",
       "      <th>...</th>\n",
       "      <td>...</td>\n",
       "      <td>...</td>\n",
       "      <td>...</td>\n",
       "      <td>...</td>\n",
       "      <td>...</td>\n",
       "      <td>...</td>\n",
       "    </tr>\n",
       "    <tr>\n",
       "      <th>656149</th>\n",
       "      <td>3667</td>\n",
       "      <td>137038</td>\n",
       "      <td>spotify:track:6WaIDdOdfmWdvXvUyBMq7F</td>\n",
       "      <td>26</td>\n",
       "      <td>NEEDTOBREATHE</td>\n",
       "      <td>DON'T BRING THAT TROUBLE</td>\n",
       "    </tr>\n",
       "    <tr>\n",
       "      <th>656150</th>\n",
       "      <td>3667</td>\n",
       "      <td>88747</td>\n",
       "      <td>spotify:track:4DZghpw50ZnO3ckfDuNkft</td>\n",
       "      <td>27</td>\n",
       "      <td>The Heydaze</td>\n",
       "      <td>New Religion</td>\n",
       "    </tr>\n",
       "    <tr>\n",
       "      <th>656151</th>\n",
       "      <td>3667</td>\n",
       "      <td>16017</td>\n",
       "      <td>spotify:track:0krby3AUjWWXAermpLRklq</td>\n",
       "      <td>28</td>\n",
       "      <td>for KING &amp; COUNTRY</td>\n",
       "      <td>To the Dreamers</td>\n",
       "    </tr>\n",
       "    <tr>\n",
       "      <th>656152</th>\n",
       "      <td>3667</td>\n",
       "      <td>21144</td>\n",
       "      <td>spotify:track:0zkyplku4wDUCYlMJd5vTu</td>\n",
       "      <td>29</td>\n",
       "      <td>People &amp; Songs</td>\n",
       "      <td>Let Revival Come (Revive Me) [feat. Kevin Jone...</td>\n",
       "    </tr>\n",
       "    <tr>\n",
       "      <th>656153</th>\n",
       "      <td>3667</td>\n",
       "      <td>7260</td>\n",
       "      <td>spotify:track:0L5tCfWfJ8rTwr1EWlHyWc</td>\n",
       "      <td>30</td>\n",
       "      <td>Hillsong United</td>\n",
       "      <td>Nothing But The Blood - Live</td>\n",
       "    </tr>\n",
       "  </tbody>\n",
       "</table>\n",
       "<p>656154 rows × 6 columns</p>\n",
       "</div>"
      ],
      "text/plain": [
       "        playlist_id  track_id                             track_uri  \\\n",
       "0             11801     98552  spotify:track:4gowy3WT6D1yhMLgRBlf9C   \n",
       "1             11801    149313  spotify:track:76kyKtPLsFbQkdQ86QrkF4   \n",
       "2             11801    116025  spotify:track:5W7xC99N2Zzfh69r7I7zWK   \n",
       "3             11801     77328  spotify:track:3fyMH1t6UPeR5croea9PrR   \n",
       "4             11801    126428  spotify:track:60geMByGdlcGGMR5R5ZjHE   \n",
       "...             ...       ...                                   ...   \n",
       "656149         3667    137038  spotify:track:6WaIDdOdfmWdvXvUyBMq7F   \n",
       "656150         3667     88747  spotify:track:4DZghpw50ZnO3ckfDuNkft   \n",
       "656151         3667     16017  spotify:track:0krby3AUjWWXAermpLRklq   \n",
       "656152         3667     21144  spotify:track:0zkyplku4wDUCYlMJd5vTu   \n",
       "656153         3667      7260  spotify:track:0L5tCfWfJ8rTwr1EWlHyWc   \n",
       "\n",
       "        playlist_position         artist_name  \\\n",
       "0                       0               Drake   \n",
       "1                       1               Drake   \n",
       "2                       2           Rick Ross   \n",
       "3                       3               Drake   \n",
       "4                       4               Drake   \n",
       "...                   ...                 ...   \n",
       "656149                 26       NEEDTOBREATHE   \n",
       "656150                 27         The Heydaze   \n",
       "656151                 28  for KING & COUNTRY   \n",
       "656152                 29      People & Songs   \n",
       "656153                 30     Hillsong United   \n",
       "\n",
       "                                               track_name  \n",
       "0                                        Change Locations  \n",
       "1                                             Plastic Bag  \n",
       "2                                      Aston Martin Music  \n",
       "3                                         Best I Ever Had  \n",
       "4                                             I'm Goin In  \n",
       "...                                                   ...  \n",
       "656149                           DON'T BRING THAT TROUBLE  \n",
       "656150                                       New Religion  \n",
       "656151                                    To the Dreamers  \n",
       "656152  Let Revival Come (Revive Me) [feat. Kevin Jone...  \n",
       "656153                       Nothing But The Blood - Live  \n",
       "\n",
       "[656154 rows x 6 columns]"
      ]
     },
     "execution_count": 7,
     "metadata": {},
     "output_type": "execute_result"
    }
   ],
   "source": [
    "df"
   ]
  },
  {
   "cell_type": "code",
   "execution_count": null,
   "id": "a8371db7",
   "metadata": {},
   "outputs": [],
   "source": []
  }
 ],
 "metadata": {
  "kernelspec": {
   "display_name": "Python 3 (ipykernel)",
   "language": "python",
   "name": "python3"
  },
  "language_info": {
   "codemirror_mode": {
    "name": "ipython",
    "version": 3
   },
   "file_extension": ".py",
   "mimetype": "text/x-python",
   "name": "python",
   "nbconvert_exporter": "python",
   "pygments_lexer": "ipython3",
   "version": "3.9.6"
  }
 },
 "nbformat": 4,
 "nbformat_minor": 5
}
