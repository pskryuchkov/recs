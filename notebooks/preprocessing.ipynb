{
 "cells": [
  {
   "cell_type": "code",
   "execution_count": 1,
   "id": "bcacd995",
   "metadata": {},
   "outputs": [],
   "source": [
    "import glob\n",
    "import json\n",
    "from random import sample\n",
    "\n",
    "import pandas as pd\n",
    "from tqdm import tqdm\n",
    "from sklearn.preprocessing import LabelEncoder"
   ]
  },
  {
   "cell_type": "code",
   "execution_count": 2,
   "id": "a0de1953",
   "metadata": {},
   "outputs": [],
   "source": [
    "data_files = glob.glob(\"../data/spotify_million_playlist_dataset/data/*.json\")"
   ]
  },
  {
   "cell_type": "code",
   "execution_count": 3,
   "id": "672cdd9c",
   "metadata": {},
   "outputs": [
    {
     "name": "stderr",
     "output_type": "stream",
     "text": [
      "100%|███████████████████████████████████████████| 20/20 [00:01<00:00, 10.66it/s]\n"
     ]
    }
   ],
   "source": [
    "N_FILES = 20\n",
    "\n",
    "data = []\n",
    "\n",
    "for fn in tqdm(sample(data_files, N_FILES)):\n",
    "    with open(fn, \"r\") as file:\n",
    "        data += json.load(file)['playlists']"
   ]
  },
  {
   "cell_type": "code",
   "execution_count": 4,
   "id": "e9d5c0a1",
   "metadata": {},
   "outputs": [
    {
     "name": "stderr",
     "output_type": "stream",
     "text": [
      "100%|██████████████████████████████████| 20000/20000 [00:00<00:00, 98612.59it/s]\n"
     ]
    }
   ],
   "source": [
    "MIN_TRACKS, MAX_TRACKS = 10 + 1, 100\n",
    "\n",
    "playlists = []\n",
    "\n",
    "for pl in tqdm(data):\n",
    "    n_tracks = len(pl[\"tracks\"])\n",
    "    \n",
    "    if n_tracks >= MIN_TRACKS and n_tracks <= MAX_TRACKS:\n",
    "        playlists += [{\"pos\": track[\"pos\"], \n",
    "                       \"artist_name\": track[\"artist_name\"], \n",
    "                       \"track_name\": track[\"track_name\"], \n",
    "                       \"track_uri\": track[\"track_uri\"], \n",
    "                       \"pos\": track[\"pos\"], \n",
    "                       \"pid\": pl[\"pid\"]}\n",
    "                       for track in pl[\"tracks\"]]"
   ]
  },
  {
   "cell_type": "code",
   "execution_count": 5,
   "id": "ffd8ed69",
   "metadata": {},
   "outputs": [],
   "source": [
    "df = pd.DataFrame(playlists)\n",
    "df = df.rename(columns={\"pid\": \"playlist_id\", \"pos\": \"playlist_position\"})\n",
    "\n",
    "track_encoder = LabelEncoder()\n",
    "df[\"track_id\"] = track_encoder.fit_transform(df[\"track_uri\"])\n",
    "\n",
    "playlist_encoder = LabelEncoder()\n",
    "df[\"playlist_id\"] = playlist_encoder.fit_transform(df[\"playlist_id\"])\n",
    "\n",
    "df = df[[\"playlist_id\", \"track_id\", \"track_uri\", \"playlist_position\", \"artist_name\", \"track_name\"]]\n",
    "df.to_csv(\"../data/spotify_playlists.csv\", index=False)"
   ]
  },
  {
   "cell_type": "code",
   "execution_count": 6,
   "id": "7239ea85",
   "metadata": {},
   "outputs": [
    {
     "name": "stdout",
     "output_type": "stream",
     "text": [
      "Unique tracks: 164576\n",
      "Playlists: 14750\n"
     ]
    }
   ],
   "source": [
    "n_tracks = df[\"track_id\"].unique().shape[0]\n",
    "n_playlists = df[\"playlist_id\"].unique().shape[0]\n",
    "print(\"Unique tracks: {}\".format(n_tracks))\n",
    "print(\"Playlists: {}\".format(n_playlists))"
   ]
  },
  {
   "cell_type": "code",
   "execution_count": 7,
   "id": "c0648d55",
   "metadata": {},
   "outputs": [
    {
     "data": {
      "text/html": [
       "<div>\n",
       "<style scoped>\n",
       "    .dataframe tbody tr th:only-of-type {\n",
       "        vertical-align: middle;\n",
       "    }\n",
       "\n",
       "    .dataframe tbody tr th {\n",
       "        vertical-align: top;\n",
       "    }\n",
       "\n",
       "    .dataframe thead th {\n",
       "        text-align: right;\n",
       "    }\n",
       "</style>\n",
       "<table border=\"1\" class=\"dataframe\">\n",
       "  <thead>\n",
       "    <tr style=\"text-align: right;\">\n",
       "      <th></th>\n",
       "      <th>playlist_id</th>\n",
       "      <th>track_id</th>\n",
       "      <th>track_uri</th>\n",
       "      <th>playlist_position</th>\n",
       "      <th>artist_name</th>\n",
       "      <th>track_name</th>\n",
       "    </tr>\n",
       "  </thead>\n",
       "  <tbody>\n",
       "    <tr>\n",
       "      <th>0</th>\n",
       "      <td>9615</td>\n",
       "      <td>146723</td>\n",
       "      <td>spotify:track:6w2VaBGWcColW05nZROWvS</td>\n",
       "      <td>0</td>\n",
       "      <td>Tory Lanez</td>\n",
       "      <td>To D.R.E.A.M.</td>\n",
       "    </tr>\n",
       "    <tr>\n",
       "      <th>1</th>\n",
       "      <td>9615</td>\n",
       "      <td>158343</td>\n",
       "      <td>spotify:track:7hMqz88kcK2Tx6wBka9INF</td>\n",
       "      <td>1</td>\n",
       "      <td>Tory Lanez</td>\n",
       "      <td>All The Girls</td>\n",
       "    </tr>\n",
       "    <tr>\n",
       "      <th>2</th>\n",
       "      <td>9615</td>\n",
       "      <td>123985</td>\n",
       "      <td>spotify:track:5rqfg8Hz5D1aCcn2XUxzNA</td>\n",
       "      <td>2</td>\n",
       "      <td>Tory Lanez</td>\n",
       "      <td>Traphouse</td>\n",
       "    </tr>\n",
       "    <tr>\n",
       "      <th>3</th>\n",
       "      <td>9615</td>\n",
       "      <td>117440</td>\n",
       "      <td>spotify:track:5Z2S8VemQCfM02SLq8o5cR</td>\n",
       "      <td>3</td>\n",
       "      <td>Tory Lanez</td>\n",
       "      <td>One Day</td>\n",
       "    </tr>\n",
       "    <tr>\n",
       "      <th>4</th>\n",
       "      <td>9615</td>\n",
       "      <td>66611</td>\n",
       "      <td>spotify:track:39Y7nKwnEoMSfzbSVcAL0J</td>\n",
       "      <td>4</td>\n",
       "      <td>Tory Lanez</td>\n",
       "      <td>B.L.O.W.</td>\n",
       "    </tr>\n",
       "    <tr>\n",
       "      <th>...</th>\n",
       "      <td>...</td>\n",
       "      <td>...</td>\n",
       "      <td>...</td>\n",
       "      <td>...</td>\n",
       "      <td>...</td>\n",
       "      <td>...</td>\n",
       "    </tr>\n",
       "    <tr>\n",
       "      <th>656048</th>\n",
       "      <td>2958</td>\n",
       "      <td>136011</td>\n",
       "      <td>spotify:track:6Qyc6fS4DsZjB2mRW9DsQs</td>\n",
       "      <td>53</td>\n",
       "      <td>The Goo Goo Dolls</td>\n",
       "      <td>Iris</td>\n",
       "    </tr>\n",
       "    <tr>\n",
       "      <th>656049</th>\n",
       "      <td>2958</td>\n",
       "      <td>139630</td>\n",
       "      <td>spotify:track:6bRgyHxbPkvrHiQFSWxo1B</td>\n",
       "      <td>54</td>\n",
       "      <td>Ane Brun</td>\n",
       "      <td>Halo</td>\n",
       "    </tr>\n",
       "    <tr>\n",
       "      <th>656050</th>\n",
       "      <td>2958</td>\n",
       "      <td>107358</td>\n",
       "      <td>spotify:track:5522Ut7YYZSv2TjLMLIpEU</td>\n",
       "      <td>55</td>\n",
       "      <td>Kelsea Ballerini</td>\n",
       "      <td>Peter Pan</td>\n",
       "    </tr>\n",
       "    <tr>\n",
       "      <th>656051</th>\n",
       "      <td>2958</td>\n",
       "      <td>98481</td>\n",
       "      <td>spotify:track:4fIWvT19w9PR0VVBuPYpWA</td>\n",
       "      <td>56</td>\n",
       "      <td>Michael Bublé</td>\n",
       "      <td>Haven't Met You Yet</td>\n",
       "    </tr>\n",
       "    <tr>\n",
       "      <th>656052</th>\n",
       "      <td>2958</td>\n",
       "      <td>104350</td>\n",
       "      <td>spotify:track:4wLZ4zPM9c4oe1VV8ejdWV</td>\n",
       "      <td>57</td>\n",
       "      <td>Michael Bublé</td>\n",
       "      <td>Home</td>\n",
       "    </tr>\n",
       "  </tbody>\n",
       "</table>\n",
       "<p>656053 rows × 6 columns</p>\n",
       "</div>"
      ],
      "text/plain": [
       "        playlist_id  track_id                             track_uri  \\\n",
       "0              9615    146723  spotify:track:6w2VaBGWcColW05nZROWvS   \n",
       "1              9615    158343  spotify:track:7hMqz88kcK2Tx6wBka9INF   \n",
       "2              9615    123985  spotify:track:5rqfg8Hz5D1aCcn2XUxzNA   \n",
       "3              9615    117440  spotify:track:5Z2S8VemQCfM02SLq8o5cR   \n",
       "4              9615     66611  spotify:track:39Y7nKwnEoMSfzbSVcAL0J   \n",
       "...             ...       ...                                   ...   \n",
       "656048         2958    136011  spotify:track:6Qyc6fS4DsZjB2mRW9DsQs   \n",
       "656049         2958    139630  spotify:track:6bRgyHxbPkvrHiQFSWxo1B   \n",
       "656050         2958    107358  spotify:track:5522Ut7YYZSv2TjLMLIpEU   \n",
       "656051         2958     98481  spotify:track:4fIWvT19w9PR0VVBuPYpWA   \n",
       "656052         2958    104350  spotify:track:4wLZ4zPM9c4oe1VV8ejdWV   \n",
       "\n",
       "        playlist_position        artist_name           track_name  \n",
       "0                       0         Tory Lanez        To D.R.E.A.M.  \n",
       "1                       1         Tory Lanez        All The Girls  \n",
       "2                       2         Tory Lanez            Traphouse  \n",
       "3                       3         Tory Lanez              One Day  \n",
       "4                       4         Tory Lanez             B.L.O.W.  \n",
       "...                   ...                ...                  ...  \n",
       "656048                 53  The Goo Goo Dolls                 Iris  \n",
       "656049                 54           Ane Brun                 Halo  \n",
       "656050                 55   Kelsea Ballerini            Peter Pan  \n",
       "656051                 56      Michael Bublé  Haven't Met You Yet  \n",
       "656052                 57      Michael Bublé                 Home  \n",
       "\n",
       "[656053 rows x 6 columns]"
      ]
     },
     "execution_count": 7,
     "metadata": {},
     "output_type": "execute_result"
    }
   ],
   "source": [
    "df"
   ]
  }
 ],
 "metadata": {
  "kernelspec": {
   "display_name": "Python 3 (ipykernel)",
   "language": "python",
   "name": "python3"
  },
  "language_info": {
   "codemirror_mode": {
    "name": "ipython",
    "version": 3
   },
   "file_extension": ".py",
   "mimetype": "text/x-python",
   "name": "python",
   "nbconvert_exporter": "python",
   "pygments_lexer": "ipython3",
   "version": "3.9.6"
  }
 },
 "nbformat": 4,
 "nbformat_minor": 5
}
