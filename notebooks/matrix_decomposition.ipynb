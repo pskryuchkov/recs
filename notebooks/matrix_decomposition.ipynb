{
 "cells": [
  {
   "cell_type": "code",
   "execution_count": 1,
   "id": "45ea5ae7",
   "metadata": {},
   "outputs": [],
   "source": [
    "import numpy as np\n",
    "import pandas as pd\n",
    "\n",
    "from sklearn.decomposition import NMF\n",
    "from sklearn.utils.extmath import randomized_svd\n",
    "from sklearn.model_selection import train_test_split\n",
    "\n",
    "import faiss\n",
    "import implicit\n",
    "import threadpoolctl\n",
    "from scipy.sparse import csr_matrix"
   ]
  },
  {
   "cell_type": "code",
   "execution_count": 2,
   "id": "db0c8c74",
   "metadata": {},
   "outputs": [],
   "source": [
    "threadpoolctl.threadpool_limits(1, \"blas\");"
   ]
  },
  {
   "cell_type": "markdown",
   "id": "443984f1",
   "metadata": {},
   "source": [
    "### Prepare data"
   ]
  },
  {
   "cell_type": "code",
   "execution_count": 3,
   "id": "f43a6d9f",
   "metadata": {},
   "outputs": [],
   "source": [
    "df = pd.read_csv(\"../data/spotify_playlists.csv\")"
   ]
  },
  {
   "cell_type": "code",
   "execution_count": 4,
   "id": "176fe72c",
   "metadata": {},
   "outputs": [
    {
     "data": {
      "text/html": [
       "<div>\n",
       "<style scoped>\n",
       "    .dataframe tbody tr th:only-of-type {\n",
       "        vertical-align: middle;\n",
       "    }\n",
       "\n",
       "    .dataframe tbody tr th {\n",
       "        vertical-align: top;\n",
       "    }\n",
       "\n",
       "    .dataframe thead th {\n",
       "        text-align: right;\n",
       "    }\n",
       "</style>\n",
       "<table border=\"1\" class=\"dataframe\">\n",
       "  <thead>\n",
       "    <tr style=\"text-align: right;\">\n",
       "      <th></th>\n",
       "      <th>playlist_id</th>\n",
       "      <th>track_id</th>\n",
       "      <th>track_uri</th>\n",
       "      <th>playlist_position</th>\n",
       "      <th>artist_name</th>\n",
       "      <th>track_name</th>\n",
       "    </tr>\n",
       "  </thead>\n",
       "  <tbody>\n",
       "    <tr>\n",
       "      <th>0</th>\n",
       "      <td>9615</td>\n",
       "      <td>146723</td>\n",
       "      <td>spotify:track:6w2VaBGWcColW05nZROWvS</td>\n",
       "      <td>0</td>\n",
       "      <td>Tory Lanez</td>\n",
       "      <td>To D.R.E.A.M.</td>\n",
       "    </tr>\n",
       "    <tr>\n",
       "      <th>1</th>\n",
       "      <td>9615</td>\n",
       "      <td>158343</td>\n",
       "      <td>spotify:track:7hMqz88kcK2Tx6wBka9INF</td>\n",
       "      <td>1</td>\n",
       "      <td>Tory Lanez</td>\n",
       "      <td>All The Girls</td>\n",
       "    </tr>\n",
       "    <tr>\n",
       "      <th>2</th>\n",
       "      <td>9615</td>\n",
       "      <td>123985</td>\n",
       "      <td>spotify:track:5rqfg8Hz5D1aCcn2XUxzNA</td>\n",
       "      <td>2</td>\n",
       "      <td>Tory Lanez</td>\n",
       "      <td>Traphouse</td>\n",
       "    </tr>\n",
       "    <tr>\n",
       "      <th>3</th>\n",
       "      <td>9615</td>\n",
       "      <td>117440</td>\n",
       "      <td>spotify:track:5Z2S8VemQCfM02SLq8o5cR</td>\n",
       "      <td>3</td>\n",
       "      <td>Tory Lanez</td>\n",
       "      <td>One Day</td>\n",
       "    </tr>\n",
       "    <tr>\n",
       "      <th>4</th>\n",
       "      <td>9615</td>\n",
       "      <td>66611</td>\n",
       "      <td>spotify:track:39Y7nKwnEoMSfzbSVcAL0J</td>\n",
       "      <td>4</td>\n",
       "      <td>Tory Lanez</td>\n",
       "      <td>B.L.O.W.</td>\n",
       "    </tr>\n",
       "  </tbody>\n",
       "</table>\n",
       "</div>"
      ],
      "text/plain": [
       "   playlist_id  track_id                             track_uri  \\\n",
       "0         9615    146723  spotify:track:6w2VaBGWcColW05nZROWvS   \n",
       "1         9615    158343  spotify:track:7hMqz88kcK2Tx6wBka9INF   \n",
       "2         9615    123985  spotify:track:5rqfg8Hz5D1aCcn2XUxzNA   \n",
       "3         9615    117440  spotify:track:5Z2S8VemQCfM02SLq8o5cR   \n",
       "4         9615     66611  spotify:track:39Y7nKwnEoMSfzbSVcAL0J   \n",
       "\n",
       "   playlist_position artist_name     track_name  \n",
       "0                  0  Tory Lanez  To D.R.E.A.M.  \n",
       "1                  1  Tory Lanez  All The Girls  \n",
       "2                  2  Tory Lanez      Traphouse  \n",
       "3                  3  Tory Lanez        One Day  \n",
       "4                  4  Tory Lanez       B.L.O.W.  "
      ]
     },
     "execution_count": 4,
     "metadata": {},
     "output_type": "execute_result"
    }
   ],
   "source": [
    "df.head()"
   ]
  },
  {
   "cell_type": "code",
   "execution_count": 5,
   "id": "8a99f423",
   "metadata": {},
   "outputs": [
    {
     "name": "stdout",
     "output_type": "stream",
     "text": [
      "tracks: 164576, playlists: 14750\n"
     ]
    }
   ],
   "source": [
    "n_track = df['track_id'].unique().shape[0]\n",
    "n_playlist = df['playlist_id'].unique().shape[0]\n",
    "print('tracks: {}, playlists: {}'.format(n_track, n_playlist))"
   ]
  },
  {
   "cell_type": "code",
   "execution_count": 6,
   "id": "af7ea227",
   "metadata": {},
   "outputs": [],
   "source": [
    "N_TOP = 10\n",
    "\n",
    "df = df.merge(\n",
    "        df.groupby('playlist_id')['track_id'].agg(neighbours=list),\n",
    "        left_on='playlist_id',\n",
    "        right_index=True\n",
    "    )\n",
    "\n",
    "df['neighbours'] = df.apply(lambda r: [n for n in r['neighbours'] if n != r['track_id']], axis=1)\n",
    "df['n_neighbours'] = df['neighbours'].apply(len)\n",
    "df = df[df['n_neighbours'] >= N_TOP].drop('n_neighbours', axis=1)"
   ]
  },
  {
   "cell_type": "code",
   "execution_count": 7,
   "id": "7d1e13fe",
   "metadata": {},
   "outputs": [
    {
     "name": "stdout",
     "output_type": "stream",
     "text": [
      "(525712, 7) (130308, 7)\n"
     ]
    }
   ],
   "source": [
    "train_idx, test_idx = train_test_split(range(df['playlist_id'].unique().shape[0]), test_size=0.2)\n",
    "train_idx = set(train_idx)\n",
    "test_idx = set(test_idx)\n",
    "\n",
    "df['train'] = df['playlist_id'].apply(lambda x: x in train_idx)\n",
    "train_df = df[df['train'] == True].drop('train', axis=1)\n",
    "test_df = df[df['train'] == False].drop('train', axis=1)\n",
    "\n",
    "\n",
    "print(train_df.shape, test_df.shape)"
   ]
  },
  {
   "cell_type": "code",
   "execution_count": 8,
   "id": "9c5eda1f",
   "metadata": {},
   "outputs": [],
   "source": [
    "rows, cols, data = [], [], []\n",
    "for i, r in train_df.iterrows():\n",
    "    rows.append(r['playlist_id'])\n",
    "    cols.append(r['track_id'])\n",
    "    data.append(1)"
   ]
  },
  {
   "cell_type": "code",
   "execution_count": 9,
   "id": "5cc640e0",
   "metadata": {},
   "outputs": [],
   "source": [
    "interactions = csr_matrix((data, (rows, cols)))"
   ]
  },
  {
   "cell_type": "code",
   "execution_count": 10,
   "id": "4cd7a30a",
   "metadata": {},
   "outputs": [
    {
     "data": {
      "text/plain": [
       "(14749, 164575)"
      ]
     },
     "execution_count": 10,
     "metadata": {},
     "output_type": "execute_result"
    }
   ],
   "source": [
    "interactions.shape"
   ]
  },
  {
   "cell_type": "markdown",
   "id": "2a31761f",
   "metadata": {},
   "source": [
    "### ALS"
   ]
  },
  {
   "cell_type": "code",
   "execution_count": 11,
   "id": "b8a33374",
   "metadata": {},
   "outputs": [],
   "source": [
    "N_LATENT = 300"
   ]
  },
  {
   "cell_type": "code",
   "execution_count": 12,
   "id": "ecb5b656",
   "metadata": {},
   "outputs": [
    {
     "data": {
      "application/vnd.jupyter.widget-view+json": {
       "model_id": "3acfb289e56d4854841b8f3b393e14fc",
       "version_major": 2,
       "version_minor": 0
      },
      "text/plain": [
       "  0%|          | 0/15 [00:00<?, ?it/s]"
      ]
     },
     "metadata": {},
     "output_type": "display_data"
    },
    {
     "name": "stdout",
     "output_type": "stream",
     "text": [
      "CPU times: user 1min 48s, sys: 103 ms, total: 1min 48s\n",
      "Wall time: 1min 48s\n"
     ]
    }
   ],
   "source": [
    "%%time\n",
    "\n",
    "model = implicit.als.AlternatingLeastSquares(factors=N_LATENT)\n",
    "model.fit(interactions)\n",
    "als_vecs = model.item_factors"
   ]
  },
  {
   "cell_type": "code",
   "execution_count": 13,
   "id": "87675b58",
   "metadata": {},
   "outputs": [
    {
     "name": "stdout",
     "output_type": "stream",
     "text": [
      "164575\n"
     ]
    }
   ],
   "source": [
    "index_als = faiss.IndexFlat(N_LATENT)   \n",
    "index_als.add(als_vecs)          \n",
    "print(index_als.ntotal)"
   ]
  },
  {
   "cell_type": "code",
   "execution_count": 14,
   "id": "38a0c06b",
   "metadata": {},
   "outputs": [],
   "source": [
    "np.save(\"../data/als_vecs.npy\", als_vecs)"
   ]
  },
  {
   "cell_type": "markdown",
   "id": "4e89b74e",
   "metadata": {},
   "source": [
    "### SVD"
   ]
  },
  {
   "cell_type": "code",
   "execution_count": 15,
   "id": "94f4e89c",
   "metadata": {},
   "outputs": [
    {
     "name": "stdout",
     "output_type": "stream",
     "text": [
      "CPU times: user 12.3 s, sys: 1.46 s, total: 13.7 s\n",
      "Wall time: 13.9 s\n"
     ]
    }
   ],
   "source": [
    "%%time\n",
    "\n",
    "u, s, vt = randomized_svd(interactions, n_components=N_LATENT)\n",
    "svd_vecs = vt.T"
   ]
  },
  {
   "cell_type": "code",
   "execution_count": 16,
   "id": "5a72ddca",
   "metadata": {},
   "outputs": [
    {
     "name": "stdout",
     "output_type": "stream",
     "text": [
      "164575\n"
     ]
    }
   ],
   "source": [
    "index_svd = faiss.IndexFlat(N_LATENT)   \n",
    "index_svd.add(svd_vecs)          \n",
    "print(index_svd.ntotal)"
   ]
  },
  {
   "cell_type": "code",
   "execution_count": 17,
   "id": "b2162ecc",
   "metadata": {},
   "outputs": [],
   "source": [
    "np.save(\"../data/svd_vecs.npy\", svd_vecs)"
   ]
  },
  {
   "cell_type": "markdown",
   "id": "a16a92a9",
   "metadata": {},
   "source": [
    "### NMF Sklearn"
   ]
  },
  {
   "cell_type": "code",
   "execution_count": 18,
   "id": "02a7c039",
   "metadata": {},
   "outputs": [
    {
     "name": "stderr",
     "output_type": "stream",
     "text": [
      "/Users/pasha/Library/Python/3.9/lib/python/site-packages/sklearn/decomposition/_nmf.py:1665: ConvergenceWarning: Maximum number of iterations 10 reached. Increase it to improve convergence.\n",
      "  warnings.warn(\n"
     ]
    },
    {
     "name": "stdout",
     "output_type": "stream",
     "text": [
      "CPU times: user 3min 25s, sys: 2.16 s, total: 3min 27s\n",
      "Wall time: 3min 28s\n"
     ]
    }
   ],
   "source": [
    "%%time\n",
    "\n",
    "nmf = NMF(n_components=N_LATENT, max_iter=10)\n",
    "W = nmf.fit_transform(interactions)\n",
    "H = nmf.components_\n",
    "nmf_vecs = H.T"
   ]
  },
  {
   "cell_type": "code",
   "execution_count": 19,
   "id": "bc03236e",
   "metadata": {},
   "outputs": [
    {
     "name": "stdout",
     "output_type": "stream",
     "text": [
      "164575\n"
     ]
    }
   ],
   "source": [
    "index_nmf = faiss.IndexFlat(N_LATENT)   \n",
    "index_nmf.add(nmf_vecs)          \n",
    "print(index_nmf.ntotal)"
   ]
  },
  {
   "cell_type": "code",
   "execution_count": 20,
   "id": "f7cbaba9",
   "metadata": {},
   "outputs": [],
   "source": [
    "np.save(\"../data/nmf_vecs.npy\", nmf_vecs)"
   ]
  },
  {
   "cell_type": "markdown",
   "id": "b4ffbcb1",
   "metadata": {},
   "source": [
    "### Metrics"
   ]
  },
  {
   "cell_type": "code",
   "execution_count": 21,
   "id": "358c2263",
   "metadata": {},
   "outputs": [],
   "source": [
    "def search_top_by_vec(v, k, index):\n",
    "    dist, idx = index.search(np.array([v]), k)\n",
    "    return idx[0]\n",
    "\n",
    "\n",
    "def search_top_by_id(id, k, index, vecs):\n",
    "    res = search_top_by_vec(vecs[id], k, index)\n",
    "    return [i for i in res if i != id]"
   ]
  },
  {
   "cell_type": "code",
   "execution_count": 22,
   "id": "f7ef7b8f",
   "metadata": {},
   "outputs": [],
   "source": [
    "N_TEST_MAX = 1000\n",
    "\n",
    "test_df = test_df.sample(N_TEST_MAX)"
   ]
  },
  {
   "cell_type": "code",
   "execution_count": 23,
   "id": "68b7ff04",
   "metadata": {},
   "outputs": [],
   "source": [
    "test_df['neighbours_pred_als'] = test_df['track_id'].apply(lambda x: search_top_by_id(x, N_TOP, \n",
    "                                                                                      index_als, als_vecs))\n",
    "test_df['neighbours_pred_svd'] = test_df['track_id'].apply(lambda x: search_top_by_id(x, N_TOP, \n",
    "                                                                                      index_svd, svd_vecs))\n",
    "test_df['neighbours_pred_nmf'] = test_df['track_id'].apply(lambda x: search_top_by_id(x, N_TOP, \n",
    "                                                                                      index_nmf, nmf_vecs))"
   ]
  },
  {
   "cell_type": "code",
   "execution_count": 24,
   "id": "c8d3c2bf",
   "metadata": {},
   "outputs": [
    {
     "name": "stdout",
     "output_type": "stream",
     "text": [
      "ALS precision: 0.054111, ALS recall: 0.008353\n",
      "SVD precision: 0.048444, SVD recall: 0.007171\n",
      "NMF precision: 0.030222, NMF recall: 0.004595\n"
     ]
    }
   ],
   "source": [
    "def precision_at_k(true, pred):\n",
    "    return len(set(pred) & set(true)) / len(pred)\n",
    "\n",
    "\n",
    "def recall_at_k(true, pred):\n",
    "    return len(set(pred) & set(true)) / len(true)\n",
    "\n",
    "\n",
    "def total_precision(df, model):\n",
    "    assert(model == 'als' or model == 'svd' or model == 'nmf')\n",
    "    pred_col = 'neighbours_pred_{}'.format(model)\n",
    "    return df.apply(lambda r: precision_at_k(r['neighbours'], r[pred_col]), axis=1).mean()\n",
    "\n",
    "\n",
    "def total_recall(df, model):\n",
    "    assert(model == 'als' or model == 'svd' or model == 'nmf')\n",
    "    pred_col = 'neighbours_pred_{}'.format(model)\n",
    "    return df.apply(lambda r: recall_at_k(r['neighbours'], r[pred_col]), axis=1).mean()\n",
    "\n",
    "\n",
    "als_precision = total_precision(test_df, 'als')\n",
    "svd_precision = total_precision(test_df, 'svd')\n",
    "nmf_precision = total_precision(test_df, 'nmf')\n",
    "\n",
    "als_recall = total_recall(test_df, 'als')\n",
    "svd_recall = total_recall(test_df, 'svd')\n",
    "nmf_recall = total_recall(test_df, 'nmf')\n",
    "\n",
    "print(\"ALS precision: {:.6f}, ALS recall: {:.6f}\".format(als_precision, als_recall))\n",
    "print(\"SVD precision: {:.6f}, SVD recall: {:.6f}\".format(svd_precision, svd_recall))\n",
    "print(\"NMF precision: {:.6f}, NMF recall: {:.6f}\".format(nmf_precision, nmf_recall))"
   ]
  },
  {
   "cell_type": "markdown",
   "id": "0384e809",
   "metadata": {},
   "source": [
    "### Validation"
   ]
  },
  {
   "cell_type": "code",
   "execution_count": 25,
   "id": "ddd44213",
   "metadata": {},
   "outputs": [],
   "source": [
    "id2name = {}\n",
    "for i, t in df[['track_id', 'artist_name', 'track_name']].drop_duplicates().iterrows():\n",
    "    id2name[t['track_id']] = [t['artist_name'], t['track_name']]"
   ]
  },
  {
   "cell_type": "code",
   "execution_count": 26,
   "id": "87be5cad",
   "metadata": {},
   "outputs": [],
   "source": [
    "def search_track_id(track, artist):\n",
    "    return df[df['artist_name'].str.contains(track) & \n",
    "              df['track_name'].str.contains(artist)].iloc[0]['track_id']\n",
    "\n",
    "\n",
    "def similar_tracks(track, artist, topn=10):\n",
    "    target_id = search_track_id(track, artist)\n",
    "    return [id2name[id] for id in \n",
    "            search_top_by_id(target_id, topn, index_als, als_vecs)]"
   ]
  },
  {
   "cell_type": "code",
   "execution_count": 27,
   "id": "3577983c",
   "metadata": {},
   "outputs": [
    {
     "data": {
      "text/plain": [
       "[['Tycho', 'Awake'],\n",
       " ['The xx', 'Crystalised'],\n",
       " ['Sylvan Esso', 'Coffee'],\n",
       " ['Tycho', 'A Walk'],\n",
       " ['Pretty Lights', 'Finally Moving'],\n",
       " ['Tycho', 'Coastal Brake'],\n",
       " ['Phantogram', \"Don't Move\"],\n",
       " ['The xx', 'Angels'],\n",
       " ['RJD2', 'Ghostwriter']]"
      ]
     },
     "execution_count": 27,
     "metadata": {},
     "output_type": "execute_result"
    }
   ],
   "source": [
    "similar_tracks(\"The xx\", \"Intro\")"
   ]
  },
  {
   "cell_type": "code",
   "execution_count": 28,
   "id": "dfe1a198",
   "metadata": {},
   "outputs": [
    {
     "data": {
      "text/plain": [
       "[['Daft Punk', 'Harder Better Faster Stronger'],\n",
       " ['Daft Punk', 'Digital Love'],\n",
       " ['Daft Punk', 'Robot Rock'],\n",
       " ['Daft Punk', 'Around The World'],\n",
       " ['Daft Punk', 'Something About Us'],\n",
       " ['Daft Punk', 'Instant Crush'],\n",
       " ['Daft Punk', 'Human After All'],\n",
       " ['Daft Punk', 'Alive'],\n",
       " ['Daft Punk', \"Rollin' & Scratchin'\"]]"
      ]
     },
     "execution_count": 28,
     "metadata": {},
     "output_type": "execute_result"
    }
   ],
   "source": [
    "similar_tracks(\"Daft Punk\", \"One More Time\")"
   ]
  },
  {
   "cell_type": "code",
   "execution_count": 29,
   "id": "b6058924",
   "metadata": {},
   "outputs": [
    {
     "data": {
      "text/plain": [
       "[['Nirvana', 'Lithium'],\n",
       " ['Nirvana', 'Heart-Shaped Box'],\n",
       " ['Nirvana', 'About A Girl'],\n",
       " ['Nirvana', 'In Bloom - Nevermind Version'],\n",
       " ['Nirvana', 'Rape Me'],\n",
       " ['The Smashing Pumpkins', 'Bullet With Butterfly Wings'],\n",
       " ['Red Hot Chili Peppers', 'Give It Away'],\n",
       " ['Pearl Jam', 'Alive'],\n",
       " ['Pearl Jam', 'Even Flow']]"
      ]
     },
     "execution_count": 29,
     "metadata": {},
     "output_type": "execute_result"
    }
   ],
   "source": [
    "similar_tracks(\"Nirvana\", \"Come As You Are\")"
   ]
  },
  {
   "cell_type": "code",
   "execution_count": 30,
   "id": "df2b8d2c",
   "metadata": {},
   "outputs": [
    {
     "data": {
      "text/plain": [
       "[['The Beatles', \"Can't Buy Me Love - Remastered\"],\n",
       " ['The Beatles', 'Eleanor Rigby - Remastered'],\n",
       " ['The Beatles', 'Something - Remastered'],\n",
       " ['The Beatles', 'Yellow Submarine - Remastered'],\n",
       " ['The Beatles', 'All You Need Is Love - Remastered 2009'],\n",
       " ['The Beatles', 'Help! - Remastered'],\n",
       " ['The Beatles', 'While My Guitar Gently Weeps - Remastered'],\n",
       " ['The Beatles', 'Lucy In The Sky With Diamonds - Remastered'],\n",
       " ['The Beatles', 'Hello, Goodbye - Remastered']]"
      ]
     },
     "execution_count": 30,
     "metadata": {},
     "output_type": "execute_result"
    }
   ],
   "source": [
    "similar_tracks(\"Beatles\", \"Yesterday\")"
   ]
  },
  {
   "cell_type": "code",
   "execution_count": 31,
   "id": "8dae06e6",
   "metadata": {},
   "outputs": [
    {
     "data": {
      "text/plain": [
       "[['Daft Punk', 'One More Time'],\n",
       " ['Scooter', 'Maria (I Like It Loud)'],\n",
       " ['KLM Music', 'I Need A Miracle - Original Extended Mix'],\n",
       " ['Scooter', '4 AM - Remastered'],\n",
       " ['Scooter', 'The Logical Song'],\n",
       " ['DJ Jean', 'The Launch - Radio Edit'],\n",
       " ['Bodyrox', 'Yeah Yeah - D Ramirez Radio Edit'],\n",
       " ['Scooter', 'The Night'],\n",
       " ['Faithless', 'Insomnia - Monster Mix']]"
      ]
     },
     "execution_count": 31,
     "metadata": {},
     "output_type": "execute_result"
    }
   ],
   "source": [
    "similar_tracks(\"Olive\", \"You're Not Alone\")"
   ]
  }
 ],
 "metadata": {
  "kernelspec": {
   "display_name": "Python 3 (ipykernel)",
   "language": "python",
   "name": "python3"
  },
  "language_info": {
   "codemirror_mode": {
    "name": "ipython",
    "version": 3
   },
   "file_extension": ".py",
   "mimetype": "text/x-python",
   "name": "python",
   "nbconvert_exporter": "python",
   "pygments_lexer": "ipython3",
   "version": "3.9.6"
  }
 },
 "nbformat": 4,
 "nbformat_minor": 5
}
