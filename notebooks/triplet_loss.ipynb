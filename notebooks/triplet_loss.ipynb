{
 "cells": [
  {
   "cell_type": "code",
   "execution_count": 1,
   "id": "7add891f",
   "metadata": {},
   "outputs": [],
   "source": [
    "from random import sample\n",
    "from itertools import chain\n",
    "\n",
    "import numpy as np\n",
    "import pandas as pd\n",
    "import matplotlib.pyplot as plt\n",
    "from sklearn.model_selection import train_test_split\n",
    "\n",
    "import faiss\n",
    "import torch\n",
    "import torch.nn as nn\n",
    "from torch.utils.data import DataLoader"
   ]
  },
  {
   "cell_type": "markdown",
   "id": "2348808d",
   "metadata": {},
   "source": [
    "### Prepare data"
   ]
  },
  {
   "cell_type": "code",
   "execution_count": 2,
   "id": "ab8919df",
   "metadata": {},
   "outputs": [],
   "source": [
    "df = pd.read_csv(\"../data/spotify_playlists.csv\")"
   ]
  },
  {
   "cell_type": "code",
   "execution_count": 3,
   "id": "b897eaa3",
   "metadata": {},
   "outputs": [
    {
     "data": {
      "text/html": [
       "<div>\n",
       "<style scoped>\n",
       "    .dataframe tbody tr th:only-of-type {\n",
       "        vertical-align: middle;\n",
       "    }\n",
       "\n",
       "    .dataframe tbody tr th {\n",
       "        vertical-align: top;\n",
       "    }\n",
       "\n",
       "    .dataframe thead th {\n",
       "        text-align: right;\n",
       "    }\n",
       "</style>\n",
       "<table border=\"1\" class=\"dataframe\">\n",
       "  <thead>\n",
       "    <tr style=\"text-align: right;\">\n",
       "      <th></th>\n",
       "      <th>playlist_id</th>\n",
       "      <th>track_id</th>\n",
       "      <th>track_uri</th>\n",
       "      <th>playlist_position</th>\n",
       "      <th>artist_name</th>\n",
       "      <th>track_name</th>\n",
       "    </tr>\n",
       "  </thead>\n",
       "  <tbody>\n",
       "    <tr>\n",
       "      <th>0</th>\n",
       "      <td>9615</td>\n",
       "      <td>146723</td>\n",
       "      <td>spotify:track:6w2VaBGWcColW05nZROWvS</td>\n",
       "      <td>0</td>\n",
       "      <td>Tory Lanez</td>\n",
       "      <td>To D.R.E.A.M.</td>\n",
       "    </tr>\n",
       "    <tr>\n",
       "      <th>1</th>\n",
       "      <td>9615</td>\n",
       "      <td>158343</td>\n",
       "      <td>spotify:track:7hMqz88kcK2Tx6wBka9INF</td>\n",
       "      <td>1</td>\n",
       "      <td>Tory Lanez</td>\n",
       "      <td>All The Girls</td>\n",
       "    </tr>\n",
       "    <tr>\n",
       "      <th>2</th>\n",
       "      <td>9615</td>\n",
       "      <td>123985</td>\n",
       "      <td>spotify:track:5rqfg8Hz5D1aCcn2XUxzNA</td>\n",
       "      <td>2</td>\n",
       "      <td>Tory Lanez</td>\n",
       "      <td>Traphouse</td>\n",
       "    </tr>\n",
       "    <tr>\n",
       "      <th>3</th>\n",
       "      <td>9615</td>\n",
       "      <td>117440</td>\n",
       "      <td>spotify:track:5Z2S8VemQCfM02SLq8o5cR</td>\n",
       "      <td>3</td>\n",
       "      <td>Tory Lanez</td>\n",
       "      <td>One Day</td>\n",
       "    </tr>\n",
       "    <tr>\n",
       "      <th>4</th>\n",
       "      <td>9615</td>\n",
       "      <td>66611</td>\n",
       "      <td>spotify:track:39Y7nKwnEoMSfzbSVcAL0J</td>\n",
       "      <td>4</td>\n",
       "      <td>Tory Lanez</td>\n",
       "      <td>B.L.O.W.</td>\n",
       "    </tr>\n",
       "  </tbody>\n",
       "</table>\n",
       "</div>"
      ],
      "text/plain": [
       "   playlist_id  track_id                             track_uri  \\\n",
       "0         9615    146723  spotify:track:6w2VaBGWcColW05nZROWvS   \n",
       "1         9615    158343  spotify:track:7hMqz88kcK2Tx6wBka9INF   \n",
       "2         9615    123985  spotify:track:5rqfg8Hz5D1aCcn2XUxzNA   \n",
       "3         9615    117440  spotify:track:5Z2S8VemQCfM02SLq8o5cR   \n",
       "4         9615     66611  spotify:track:39Y7nKwnEoMSfzbSVcAL0J   \n",
       "\n",
       "   playlist_position artist_name     track_name  \n",
       "0                  0  Tory Lanez  To D.R.E.A.M.  \n",
       "1                  1  Tory Lanez  All The Girls  \n",
       "2                  2  Tory Lanez      Traphouse  \n",
       "3                  3  Tory Lanez        One Day  \n",
       "4                  4  Tory Lanez       B.L.O.W.  "
      ]
     },
     "execution_count": 3,
     "metadata": {},
     "output_type": "execute_result"
    }
   ],
   "source": [
    "df.head()"
   ]
  },
  {
   "cell_type": "code",
   "execution_count": 4,
   "id": "70e50e5a",
   "metadata": {},
   "outputs": [
    {
     "name": "stdout",
     "output_type": "stream",
     "text": [
      "tracks: 164576, playlists: 14750\n"
     ]
    }
   ],
   "source": [
    "n_track = df['track_id'].unique().shape[0]\n",
    "n_playlist = df['playlist_id'].unique().shape[0]\n",
    "print('tracks: {}, playlists: {}'.format(n_track, n_playlist))"
   ]
  },
  {
   "cell_type": "code",
   "execution_count": 5,
   "id": "228c6c6f",
   "metadata": {},
   "outputs": [],
   "source": [
    "N_TOP = 10\n",
    "\n",
    "playlists_df = df.groupby('playlist_id')['track_id'].agg(neighbours=list)\n",
    "playlists_df['n_neighbours'] = playlists_df['neighbours'].apply(len)\n",
    "playlists_df = playlists_df[playlists_df['n_neighbours'] >= N_TOP].drop('n_neighbours', axis=1)\n",
    "\n",
    "playlists = playlists_df['neighbours'].to_numpy()"
   ]
  },
  {
   "cell_type": "code",
   "execution_count": 6,
   "id": "27d18b22",
   "metadata": {},
   "outputs": [
    {
     "data": {
      "text/plain": [
       "14750"
      ]
     },
     "execution_count": 6,
     "metadata": {},
     "output_type": "execute_result"
    }
   ],
   "source": [
    "playlists.size"
   ]
  },
  {
   "cell_type": "code",
   "execution_count": 7,
   "id": "49913a25",
   "metadata": {},
   "outputs": [],
   "source": [
    "n_playlist_samples = N_TOP\n",
    "\n",
    "triplets_id = []\n",
    "for i in range(playlists.size):\n",
    "    for _ in range(n_playlist_samples):\n",
    "        anchor, positive = sample(playlists[i], 2)\n",
    "\n",
    "        actual_idx = list(range(playlists.size))\n",
    "        actual_idx.remove(i)\n",
    "        negative = sample(sample(actual_idx, 1), 1)[0]\n",
    "\n",
    "        if anchor != positive and anchor != negative and positive != negative:\n",
    "            triplets_id.append((anchor, positive, negative))"
   ]
  },
  {
   "cell_type": "code",
   "execution_count": 8,
   "id": "0ee3c729",
   "metadata": {},
   "outputs": [],
   "source": [
    "triplets_id = list(set(triplets_id))\n",
    "id2idx = {id: k for k, id in enumerate(set(chain.from_iterable(triplets_id)))}\n",
    "\n",
    "triplets_idx = []\n",
    "for t in triplets_id:\n",
    "    triplets_idx.append((id2idx[t[0]], id2idx[t[1]], id2idx[t[2]]))"
   ]
  },
  {
   "cell_type": "code",
   "execution_count": 9,
   "id": "1abaa8e0",
   "metadata": {},
   "outputs": [],
   "source": [
    "train_triplets, test_triplets = train_test_split(triplets_idx, test_size=0.1)"
   ]
  },
  {
   "cell_type": "code",
   "execution_count": 10,
   "id": "01a11ad8",
   "metadata": {},
   "outputs": [
    {
     "data": {
      "text/plain": [
       "(132669, 14742)"
      ]
     },
     "execution_count": 10,
     "metadata": {},
     "output_type": "execute_result"
    }
   ],
   "source": [
    "len(train_triplets), len(test_triplets)"
   ]
  },
  {
   "cell_type": "markdown",
   "id": "84001107",
   "metadata": {},
   "source": [
    "### Train"
   ]
  },
  {
   "cell_type": "code",
   "execution_count": 11,
   "id": "3ed978d0",
   "metadata": {},
   "outputs": [],
   "source": [
    "dim = 128\n",
    "n_items = max(id2idx.values()) + 1"
   ]
  },
  {
   "cell_type": "code",
   "execution_count": 12,
   "id": "1999ca46",
   "metadata": {},
   "outputs": [],
   "source": [
    "class Embedder(nn.Module):\n",
    "    def __init__(self):\n",
    "        super().__init__()\n",
    "        self.embedding = nn.Embedding(n_items, dim)\n",
    "        self.linear = nn.Linear(dim, dim)\n",
    "        self.activation = nn.Sigmoid()\n",
    "\n",
    "    def forward(self, x):\n",
    "        return self.activation(self.linear(self.embedding(x)))"
   ]
  },
  {
   "cell_type": "code",
   "execution_count": 13,
   "id": "ee8b8215",
   "metadata": {},
   "outputs": [],
   "source": [
    "triplet_loss = nn.TripletMarginLoss()\n",
    "embedder = Embedder()\n",
    "opt = torch.optim.Adam(embedder.parameters(), lr=1e-3)"
   ]
  },
  {
   "cell_type": "code",
   "execution_count": 14,
   "id": "0c7094f2",
   "metadata": {},
   "outputs": [],
   "source": [
    "train_loader = DataLoader(train_triplets, batch_size=32, shuffle=True)\n",
    "test_loader = DataLoader(test_triplets, batch_size=32, shuffle=True)"
   ]
  },
  {
   "cell_type": "code",
   "execution_count": 15,
   "id": "905c3ef2",
   "metadata": {},
   "outputs": [],
   "source": [
    "epochs = 5"
   ]
  },
  {
   "cell_type": "code",
   "execution_count": 16,
   "id": "62071959",
   "metadata": {},
   "outputs": [
    {
     "name": "stdout",
     "output_type": "stream",
     "text": [
      "Epoch: 1 Train Loss: 0.7928398117545257 Test Loss: 0.5905282497406006\n",
      "Epoch: 2 Train Loss: 0.3163296123791362 Test Loss: 0.3707919418811798\n",
      "Epoch: 3 Train Loss: 0.10929489227481728 Test Loss: 0.277788907289505\n",
      "Epoch: 4 Train Loss: 0.040948838251609186 Test Loss: 0.25350722670555115\n",
      "Epoch: 5 Train Loss: 0.016512241392421998 Test Loss: 0.24948237836360931\n",
      "CPU times: user 23min 40s, sys: 11min 13s, total: 34min 54s\n",
      "Wall time: 6min 5s\n"
     ]
    }
   ],
   "source": [
    "%%time\n",
    "\n",
    "train_losses, test_losses = [], []\n",
    "\n",
    "for epoch in range(epochs):\n",
    "    embedder.train()\n",
    "    \n",
    "    train_loss = 0\n",
    "    for anchor_id, positive_id, negative_id in train_loader:\n",
    "        anchor_vec = embedder(anchor_id)\n",
    "        positive_vec = embedder(positive_id)\n",
    "        negative_vec = embedder(negative_id)\n",
    "        \n",
    "        loss = triplet_loss(anchor_vec, positive_vec, negative_vec)\n",
    "        loss.backward()\n",
    "\n",
    "        opt.step()\n",
    "        opt.zero_grad()\n",
    "\n",
    "        train_loss += loss.item()\n",
    "        \n",
    "    embedder.eval()\n",
    "    \n",
    "    with torch.no_grad():\n",
    "        test_loss = 0\n",
    "        for test_anchor_id, test_positive_id, test_negative_id in test_loader:\n",
    "            test_loss += triplet_loss(embedder(test_anchor_id), \n",
    "                                      embedder(test_positive_id),\n",
    "                                      embedder(test_negative_id))\n",
    "\n",
    "    train_loss /= len(train_loader)\n",
    "    test_loss /= len(test_loader)\n",
    "    \n",
    "    train_losses.append(train_loss)\n",
    "    test_losses.append(test_loss)\n",
    "    \n",
    "    print(f\"Epoch: {epoch + 1} Train Loss: {train_loss} Test Loss: {test_loss}\")"
   ]
  },
  {
   "cell_type": "code",
   "execution_count": 17,
   "id": "1d9a9e6d",
   "metadata": {},
   "outputs": [
    {
     "data": {
      "image/png": "[encoded data removed]",
      "text/plain": [
       "<Figure size 640x480 with 1 Axes>"
      ]
     },
     "metadata": {},
     "output_type": "display_data"
    }
   ],
   "source": [
    "plt.plot(train_losses, 'o-', label='train loss')\n",
    "plt.plot(test_losses, 'o-', label='test loss')\n",
    "plt.legend();"
   ]
  },
  {
   "cell_type": "markdown",
   "id": "a87e33a9",
   "metadata": {},
   "source": [
    "### Metrics"
   ]
  },
  {
   "cell_type": "code",
   "execution_count": 18,
   "id": "275b6fb7",
   "metadata": {},
   "outputs": [],
   "source": [
    "def calc_embedding(id):\n",
    "    return embedder(torch.tensor([id2idx[id]])).detach().numpy()[0]"
   ]
  },
  {
   "cell_type": "code",
   "execution_count": 19,
   "id": "3c5ba17c",
   "metadata": {},
   "outputs": [],
   "source": [
    "df = df.merge(playlists_df,\n",
    "                   left_on='playlist_id',\n",
    "                   right_index=True)\n",
    "\n",
    "df['embedding'] = df['track_id'].apply(lambda id: tuple(calc_embedding(id)) if id in id2idx else None)\n",
    "df = df.dropna()"
   ]
  },
  {
   "cell_type": "code",
   "execution_count": 20,
   "id": "75b83e06",
   "metadata": {},
   "outputs": [],
   "source": [
    "faiss_df = df[['track_id', 'embedding']].drop_duplicates()\n",
    "faiss_df['idx'] = list(range(faiss_df.shape[0]))\n",
    "tracks_vecs = np.array(faiss_df['embedding'].to_list())"
   ]
  },
  {
   "cell_type": "code",
   "execution_count": 21,
   "id": "acc0d137",
   "metadata": {},
   "outputs": [
    {
     "name": "stdout",
     "output_type": "stream",
     "text": [
      "89988\n"
     ]
    }
   ],
   "source": [
    "index = faiss.IndexFlat(dim)   \n",
    "index.add(tracks_vecs)          \n",
    "print(index.ntotal)"
   ]
  },
  {
   "cell_type": "code",
   "execution_count": 22,
   "id": "9a37a67b",
   "metadata": {},
   "outputs": [],
   "source": [
    "def search_closest(vec, index, topn=N_TOP+1):\n",
    "    dist, idx = index.search(np.array([vec]), topn)\n",
    "    return idx[0]"
   ]
  },
  {
   "cell_type": "code",
   "execution_count": 23,
   "id": "a60fca81",
   "metadata": {},
   "outputs": [],
   "source": [
    "faiss_df['pred_neighbours_idx'] = faiss_df \\\n",
    "                                    .apply(lambda r: search_closest(r['embedding'], index), axis=1)\n",
    "\n",
    "faiss_idx2id = dict(zip(faiss_df.idx, faiss_df.track_id))\n",
    "\n",
    "faiss_df['pred_neighbours_id'] = faiss_df['pred_neighbours_idx'] \\\n",
    "                                    .apply(lambda neighbours: [faiss_idx2id[n] for n in neighbours])"
   ]
  },
  {
   "cell_type": "code",
   "execution_count": 24,
   "id": "17319e5e",
   "metadata": {},
   "outputs": [],
   "source": [
    "df = df.merge(faiss_df[['track_id', 'pred_neighbours_id']], on='track_id')\n",
    "df['neighbours'] = df.apply(lambda r: [n for n in r['neighbours'] if n != r['track_id']], axis=1)\n",
    "df['pred_neighbours_id'] = df.apply(lambda r: [n for n in r['pred_neighbours_id'] if n != r['track_id']], axis=1)"
   ]
  },
  {
   "cell_type": "code",
   "execution_count": 25,
   "id": "a2799d3a",
   "metadata": {},
   "outputs": [],
   "source": [
    "def precision_at_k(true, pred):\n",
    "    return len(set(pred) & set(true)) / len(pred)\n",
    "\n",
    "\n",
    "def recall_at_k(true, pred):\n",
    "    return len(set(pred) & set(true)) / len(true)\n",
    "\n",
    "\n",
    "triplet_precision = df.apply(lambda r: precision_at_k(r['neighbours'], r['pred_neighbours_id']), axis=1).mean()\n",
    "triplet_recall = df.apply(lambda r: recall_at_k(r['neighbours'], r['pred_neighbours_id']), axis=1).mean()"
   ]
  },
  {
   "cell_type": "code",
   "execution_count": 26,
   "id": "363b5350",
   "metadata": {},
   "outputs": [
    {
     "name": "stdout",
     "output_type": "stream",
     "text": [
      "Triplet precision: 0.005081\n",
      "Triplet recall: 0.000932\n"
     ]
    }
   ],
   "source": [
    "print(\"Triplet precision: {:.6f}\".format(triplet_precision))\n",
    "print(\"Triplet recall: {:.6f}\".format(triplet_recall))"
   ]
  },
  {
   "cell_type": "markdown",
   "id": "4ba4388a",
   "metadata": {},
   "source": [
    "### Validation"
   ]
  },
  {
   "cell_type": "code",
   "execution_count": 27,
   "id": "331da420",
   "metadata": {},
   "outputs": [],
   "source": [
    "id2name = {}\n",
    "for i, t in df[['track_id', 'artist_name', 'track_name']].drop_duplicates().iterrows():\n",
    "    id2name[t['track_id']] = [t['artist_name'], t['track_name']]"
   ]
  },
  {
   "cell_type": "code",
   "execution_count": 28,
   "id": "ac768aac",
   "metadata": {},
   "outputs": [],
   "source": [
    "def search_track_id(track, artist):\n",
    "    return df[df['artist_name'].str.contains(track) & \n",
    "              df['track_name'].str.contains(artist)].iloc[0]['track_id']\n",
    "\n",
    "\n",
    "def similar_tracks(track, artist):\n",
    "    target_id = search_track_id(track, artist)\n",
    "    target_vec = df[df['track_id'] == target_id].iloc[0]['embedding']\n",
    "    return [id2name[faiss_idx2id[idx]] for idx in search_closest(target_vec, index, 10+1)[1:]]"
   ]
  },
  {
   "cell_type": "code",
   "execution_count": 29,
   "id": "1bb2efeb",
   "metadata": {},
   "outputs": [
    {
     "data": {
      "text/plain": [
       "[['Sasha Baron Cohen', 'Beggars At The Feast'],\n",
       " ['Tommy', 'Firefight'],\n",
       " ['Glass Cloud', 'Ivy & Wine'],\n",
       " ['Kevin Dubrow', 'Rock Rock (Till You Drop)'],\n",
       " ['All Sons & Daughters', 'Oh Our Lord'],\n",
       " ['Deerhunter', 'Living My Life'],\n",
       " ['Usher', \"Hey Daddy (Daddy's Home)\"],\n",
       " ['Ben Folds', 'Still'],\n",
       " ['Erotic Massage Music Ensemble', 'Mental Health'],\n",
       " ['Wolfgang Amadeus Mozart',\n",
       "  'Piano Concerto No.21 in C Major, K.467: 1. Allegro']]"
      ]
     },
     "execution_count": 29,
     "metadata": {},
     "output_type": "execute_result"
    }
   ],
   "source": [
    "similar_tracks(\"The xx\", \"Intro\")"
   ]
  },
  {
   "cell_type": "code",
   "execution_count": 30,
   "id": "53824835",
   "metadata": {},
   "outputs": [
    {
     "data": {
      "text/plain": [
       "[['emune', 'I Walked Away Cause She Looked Too Friendly'],\n",
       " ['PJ Harvey', 'Who The Fuck?'],\n",
       " ['Arcangel', 'Me Prefieres A Mi - Remix'],\n",
       " ['Tom Waits', 'Come On Up To The House'],\n",
       " ['Gadiel Espinoza', 'A El Alto Y Sublime'],\n",
       " ['Zombie Nation', 'Kernkraft 400 - DJ Gius Mix, Radio Edit'],\n",
       " ['Natalia Lafourcade', 'Tú Sí Sabes Quererme'],\n",
       " ['Video Games Live', 'Chrono Cross - \"Scars of Time\"'],\n",
       " ['Flatsound', \"Don't Call Me At All\"],\n",
       " ['Mannheim Steamroller', 'God Rest Ye, Merry Gentlemen']]"
      ]
     },
     "execution_count": 30,
     "metadata": {},
     "output_type": "execute_result"
    }
   ],
   "source": [
    "similar_tracks(\"Daft Punk\", \"One More Time\")"
   ]
  },
  {
   "cell_type": "code",
   "execution_count": 31,
   "id": "91c79348",
   "metadata": {},
   "outputs": [
    {
     "data": {
      "text/plain": [
       "[['Wes Walker', 'Jordan Belfort'],\n",
       " ['Ryan Montbleau', 'The Boat Song'],\n",
       " ['Migos', 'Kelly Price (feat. Travis Scott)'],\n",
       " ['Andy Grammer', 'Fresh Eyes'],\n",
       " ['LMFAO', 'Party Rock Anthem'],\n",
       " ['Pitbull', 'Greenlight'],\n",
       " ['Disclosure', 'Omen - Dillon Francis Remix'],\n",
       " ['The Chainsmokers', 'Paris'],\n",
       " ['The Piano Guys', 'Hello / Lacrimosa'],\n",
       " ['DRAM', 'Broccoli (feat. Lil Yachty)']]"
      ]
     },
     "execution_count": 31,
     "metadata": {},
     "output_type": "execute_result"
    }
   ],
   "source": [
    "similar_tracks(\"Nirvana\", \"Come As You Are\")"
   ]
  },
  {
   "cell_type": "code",
   "execution_count": 32,
   "id": "f2d26603",
   "metadata": {},
   "outputs": [
    {
     "data": {
      "text/plain": [
       "[['David Guetta', 'Little Bad Girl (feat. Taio Cruz & Ludacris)'],\n",
       " ['Edward Sharpe & The Magnetic Zeros', \"That's What's Up\"],\n",
       " ['Koh Lantana', 'Meditation: Healing Reiki'],\n",
       " ['Creedence Clearwater Revival', 'Good Golly Miss Molly'],\n",
       " ['Billy Zane', \"Wait 'Til He Sees You\"],\n",
       " ['Adam Doleac', 'Shady'],\n",
       " ['Brooke Sunny Moriber', 'The Factory Girls / Come Up to My Office'],\n",
       " ['Common', 'The Light'],\n",
       " ['The Jackson 5', 'Give Love On Christmas Day'],\n",
       " ['Crystal Castles', 'Affection']]"
      ]
     },
     "execution_count": 32,
     "metadata": {},
     "output_type": "execute_result"
    }
   ],
   "source": [
    "similar_tracks(\"Beatles\", \"Yesterday\")"
   ]
  },
  {
   "cell_type": "code",
   "execution_count": 33,
   "id": "d00442a9",
   "metadata": {},
   "outputs": [
    {
     "data": {
      "text/plain": [
       "[['Lizz Wright', 'When I Fall'],\n",
       " ['Los Tigres Del Norte', 'Jefe De Jefes'],\n",
       " ['Wiz Taylor', 'Mezmorized'],\n",
       " ['Kristin Chenoweth', 'Knowing When to Leave'],\n",
       " ['Chino & Nacho', 'Voy A Caer En La Tentación'],\n",
       " ['Emmanuel',\n",
       "  'La Chica De Humo - En Vivo Desde Auditorio Nacional, México/ 2007'],\n",
       " [\"Howlin' Wolf\", 'Spoonful'],\n",
       " ['The Irish Rovers', 'Bonnie Kellswater'],\n",
       " ['NOFX', \"Don't Call Me White\"],\n",
       " ['Moxie Raia', 'Healer']]"
      ]
     },
     "execution_count": 33,
     "metadata": {},
     "output_type": "execute_result"
    }
   ],
   "source": [
    "similar_tracks(\"Olive\", \"You're Not Alone\")"
   ]
  }
 ],
 "metadata": {
  "kernelspec": {
   "display_name": "Python 3 (ipykernel)",
   "language": "python",
   "name": "python3"
  },
  "language_info": {
   "codemirror_mode": {
    "name": "ipython",
    "version": 3
   },
   "file_extension": ".py",
   "mimetype": "text/x-python",
   "name": "python",
   "nbconvert_exporter": "python",
   "pygments_lexer": "ipython3",
   "version": "3.9.6"
  }
 },
 "nbformat": 4,
 "nbformat_minor": 5
}
