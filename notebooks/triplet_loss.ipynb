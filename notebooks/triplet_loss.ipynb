{
 "cells": [
  {
   "cell_type": "code",
   "execution_count": 1,
   "id": "7add891f",
   "metadata": {},
   "outputs": [],
   "source": [
    "from random import sample\n",
    "from itertools import chain\n",
    "\n",
    "import numpy as np\n",
    "import pandas as pd\n",
    "import matplotlib.pyplot as plt\n",
    "from sklearn.model_selection import train_test_split\n",
    "\n",
    "import faiss\n",
    "import torch\n",
    "import torch.nn as nn\n",
    "from torch.utils.data import DataLoader"
   ]
  },
  {
   "cell_type": "markdown",
   "id": "2348808d",
   "metadata": {},
   "source": [
    "### Prepare data"
   ]
  },
  {
   "cell_type": "code",
   "execution_count": 2,
   "id": "ab8919df",
   "metadata": {},
   "outputs": [],
   "source": [
    "df = pd.read_csv(\"../data/spotify_playlists.csv\")"
   ]
  },
  {
   "cell_type": "code",
   "execution_count": 3,
   "id": "b897eaa3",
   "metadata": {},
   "outputs": [
    {
     "data": {
      "text/html": [
       "<div>\n",
       "<style scoped>\n",
       "    .dataframe tbody tr th:only-of-type {\n",
       "        vertical-align: middle;\n",
       "    }\n",
       "\n",
       "    .dataframe tbody tr th {\n",
       "        vertical-align: top;\n",
       "    }\n",
       "\n",
       "    .dataframe thead th {\n",
       "        text-align: right;\n",
       "    }\n",
       "</style>\n",
       "<table border=\"1\" class=\"dataframe\">\n",
       "  <thead>\n",
       "    <tr style=\"text-align: right;\">\n",
       "      <th></th>\n",
       "      <th>playlist_id</th>\n",
       "      <th>track_id</th>\n",
       "      <th>track_uri</th>\n",
       "      <th>playlist_position</th>\n",
       "      <th>artist_name</th>\n",
       "      <th>track_name</th>\n",
       "    </tr>\n",
       "  </thead>\n",
       "  <tbody>\n",
       "    <tr>\n",
       "      <th>0</th>\n",
       "      <td>9615</td>\n",
       "      <td>146723</td>\n",
       "      <td>spotify:track:6w2VaBGWcColW05nZROWvS</td>\n",
       "      <td>0</td>\n",
       "      <td>Tory Lanez</td>\n",
       "      <td>To D.R.E.A.M.</td>\n",
       "    </tr>\n",
       "    <tr>\n",
       "      <th>1</th>\n",
       "      <td>9615</td>\n",
       "      <td>158343</td>\n",
       "      <td>spotify:track:7hMqz88kcK2Tx6wBka9INF</td>\n",
       "      <td>1</td>\n",
       "      <td>Tory Lanez</td>\n",
       "      <td>All The Girls</td>\n",
       "    </tr>\n",
       "    <tr>\n",
       "      <th>2</th>\n",
       "      <td>9615</td>\n",
       "      <td>123985</td>\n",
       "      <td>spotify:track:5rqfg8Hz5D1aCcn2XUxzNA</td>\n",
       "      <td>2</td>\n",
       "      <td>Tory Lanez</td>\n",
       "      <td>Traphouse</td>\n",
       "    </tr>\n",
       "    <tr>\n",
       "      <th>3</th>\n",
       "      <td>9615</td>\n",
       "      <td>117440</td>\n",
       "      <td>spotify:track:5Z2S8VemQCfM02SLq8o5cR</td>\n",
       "      <td>3</td>\n",
       "      <td>Tory Lanez</td>\n",
       "      <td>One Day</td>\n",
       "    </tr>\n",
       "    <tr>\n",
       "      <th>4</th>\n",
       "      <td>9615</td>\n",
       "      <td>66611</td>\n",
       "      <td>spotify:track:39Y7nKwnEoMSfzbSVcAL0J</td>\n",
       "      <td>4</td>\n",
       "      <td>Tory Lanez</td>\n",
       "      <td>B.L.O.W.</td>\n",
       "    </tr>\n",
       "  </tbody>\n",
       "</table>\n",
       "</div>"
      ],
      "text/plain": [
       "   playlist_id  track_id                             track_uri  \\\n",
       "0         9615    146723  spotify:track:6w2VaBGWcColW05nZROWvS   \n",
       "1         9615    158343  spotify:track:7hMqz88kcK2Tx6wBka9INF   \n",
       "2         9615    123985  spotify:track:5rqfg8Hz5D1aCcn2XUxzNA   \n",
       "3         9615    117440  spotify:track:5Z2S8VemQCfM02SLq8o5cR   \n",
       "4         9615     66611  spotify:track:39Y7nKwnEoMSfzbSVcAL0J   \n",
       "\n",
       "   playlist_position artist_name     track_name  \n",
       "0                  0  Tory Lanez  To D.R.E.A.M.  \n",
       "1                  1  Tory Lanez  All The Girls  \n",
       "2                  2  Tory Lanez      Traphouse  \n",
       "3                  3  Tory Lanez        One Day  \n",
       "4                  4  Tory Lanez       B.L.O.W.  "
      ]
     },
     "execution_count": 3,
     "metadata": {},
     "output_type": "execute_result"
    }
   ],
   "source": [
    "df.head()"
   ]
  },
  {
   "cell_type": "code",
   "execution_count": 4,
   "id": "70e50e5a",
   "metadata": {},
   "outputs": [
    {
     "name": "stdout",
     "output_type": "stream",
     "text": [
      "tracks: 164576, playlists: 14750\n"
     ]
    }
   ],
   "source": [
    "n_track = df['track_id'].unique().shape[0]\n",
    "n_playlist = df['playlist_id'].unique().shape[0]\n",
    "print('tracks: {}, playlists: {}'.format(n_track, n_playlist))"
   ]
  },
  {
   "cell_type": "code",
   "execution_count": 5,
   "id": "228c6c6f",
   "metadata": {},
   "outputs": [],
   "source": [
    "N_TOP = 10\n",
    "\n",
    "playlists_df = df.groupby('playlist_id')['track_id'].agg(neighbours=list)\n",
    "playlists_df['n_neighbours'] = playlists_df['neighbours'].apply(len)\n",
    "playlists_df = playlists_df[playlists_df['n_neighbours'] >= N_TOP].drop('n_neighbours', axis=1)\n",
    "\n",
    "playlists = playlists_df['neighbours'].to_numpy()"
   ]
  },
  {
   "cell_type": "code",
   "execution_count": 6,
   "id": "27d18b22",
   "metadata": {},
   "outputs": [
    {
     "data": {
      "text/plain": [
       "14750"
      ]
     },
     "execution_count": 6,
     "metadata": {},
     "output_type": "execute_result"
    }
   ],
   "source": [
    "playlists.size"
   ]
  },
  {
   "cell_type": "code",
   "execution_count": 7,
   "id": "49913a25",
   "metadata": {},
   "outputs": [],
   "source": [
    "n_playlist_samples = N_TOP\n",
    "\n",
    "triplets_id = []\n",
    "for i in range(playlists.size):\n",
    "    for _ in range(n_playlist_samples):\n",
    "        anchor, positive = sample(playlists[i], 2)\n",
    "\n",
    "        actual_idx = list(range(playlists.size))\n",
    "        actual_idx.remove(i)\n",
    "        negative = sample(sample(actual_idx, 1), 1)[0]\n",
    "\n",
    "        if anchor != positive and anchor != negative and positive != negative:\n",
    "            triplets_id.append((anchor, positive, negative))"
   ]
  },
  {
   "cell_type": "code",
   "execution_count": 8,
   "id": "0ee3c729",
   "metadata": {},
   "outputs": [],
   "source": [
    "triplets_id = list(set(triplets_id))\n",
    "id2idx = {id: k for k, id in enumerate(set(chain.from_iterable(triplets_id)))}\n",
    "\n",
    "triplets_idx = []\n",
    "for t in triplets_id:\n",
    "    triplets_idx.append((id2idx[t[0]], id2idx[t[1]], id2idx[t[2]]))"
   ]
  },
  {
   "cell_type": "code",
   "execution_count": 9,
   "id": "1abaa8e0",
   "metadata": {},
   "outputs": [],
   "source": [
    "train_triplets, test_triplets = train_test_split(triplets_idx, test_size=0.2)"
   ]
  },
  {
   "cell_type": "code",
   "execution_count": 10,
   "id": "01a11ad8",
   "metadata": {},
   "outputs": [
    {
     "data": {
      "text/plain": [
       "(117932, 29484)"
      ]
     },
     "execution_count": 10,
     "metadata": {},
     "output_type": "execute_result"
    }
   ],
   "source": [
    "len(train_triplets), len(test_triplets)"
   ]
  },
  {
   "cell_type": "markdown",
   "id": "84001107",
   "metadata": {},
   "source": [
    "### Train"
   ]
  },
  {
   "cell_type": "code",
   "execution_count": 11,
   "id": "3ed978d0",
   "metadata": {},
   "outputs": [],
   "source": [
    "dim = 32\n",
    "n_items = max(id2idx.values()) + 1"
   ]
  },
  {
   "cell_type": "code",
   "execution_count": 12,
   "id": "1999ca46",
   "metadata": {},
   "outputs": [],
   "source": [
    "class Embedder(nn.Module):\n",
    "    def __init__(self):\n",
    "        super().__init__()\n",
    "        self.embedding = nn.Embedding(n_items, dim)\n",
    "        self.linear = nn.Linear(dim, dim)\n",
    "        self.relu = nn.ReLU()\n",
    "\n",
    "    def forward(self, x):\n",
    "        return self.relu(self.linear(self.embedding(x)))"
   ]
  },
  {
   "cell_type": "code",
   "execution_count": 13,
   "id": "ee8b8215",
   "metadata": {},
   "outputs": [],
   "source": [
    "triplet_loss = nn.TripletMarginLoss()\n",
    "embedder = Embedder()\n",
    "opt = torch.optim.Adam(embedder.parameters(), lr=1e-3)"
   ]
  },
  {
   "cell_type": "code",
   "execution_count": 14,
   "id": "0c7094f2",
   "metadata": {},
   "outputs": [],
   "source": [
    "train_loader = DataLoader(train_triplets, batch_size=1, shuffle=True)\n",
    "test_loader = DataLoader(test_triplets, batch_size=1, shuffle=True)"
   ]
  },
  {
   "cell_type": "code",
   "execution_count": 15,
   "id": "905c3ef2",
   "metadata": {},
   "outputs": [],
   "source": [
    "epochs = 3"
   ]
  },
  {
   "cell_type": "code",
   "execution_count": 16,
   "id": "62071959",
   "metadata": {},
   "outputs": [
    {
     "name": "stdout",
     "output_type": "stream",
     "text": [
      "Epoch: 1 Train Loss: 0.6992510477930608 Test Loss: 1.3085682392120361\n",
      "Epoch: 2 Train Loss: 0.24290077730907667 Test Loss: 0.0\n",
      "Epoch: 3 Train Loss: 0.11144166827298883 Test Loss: 0.0\n",
      "CPU times: user 1h 27min 10s, sys: 28min 58s, total: 1h 56min 9s\n",
      "Wall time: 29min 27s\n"
     ]
    }
   ],
   "source": [
    "%%time\n",
    "\n",
    "train_losses, test_losses = [], []\n",
    "\n",
    "for epoch in range(epochs):\n",
    "    embedder.train()\n",
    "    \n",
    "    train_loss = 0\n",
    "    for anchor_id, positive_id, negative_id in train_loader:\n",
    "        anchor_vec = embedder(anchor_id)\n",
    "        positive_vec = embedder(positive_id)\n",
    "        negative_vec = embedder(negative_id)\n",
    "        \n",
    "        loss = triplet_loss(anchor_vec, positive_vec, negative_vec)\n",
    "        loss.backward()\n",
    "\n",
    "        opt.step()\n",
    "        opt.zero_grad()\n",
    "\n",
    "        train_loss += loss.item()\n",
    "        \n",
    "    embedder.eval()\n",
    "    \n",
    "    with torch.no_grad():\n",
    "        test_loss = 0\n",
    "        for test_anchor_id, test_positive_id, test_negative_id in test_loader:\n",
    "            test_loss += triplet_loss(embedder(anchor_id), \n",
    "                                      embedder(positive_id),\n",
    "                                      embedder(negative_id))\n",
    "\n",
    "    train_loss /= len(train_loader)\n",
    "    test_loss /= len(test_loader)\n",
    "    \n",
    "    train_losses.append(train_loss)\n",
    "    test_losses.append(test_loss)\n",
    "    \n",
    "    print(f\"Epoch: {epoch + 1} Train Loss: {train_loss} Test Loss: {test_loss}\")"
   ]
  },
  {
   "cell_type": "code",
   "execution_count": 17,
   "id": "1d9a9e6d",
   "metadata": {},
   "outputs": [
    {
     "data": {
      "image/png": "[encoded data removed]",
      "text/plain": [
       "<Figure size 640x480 with 1 Axes>"
      ]
     },
     "metadata": {},
     "output_type": "display_data"
    }
   ],
   "source": [
    "plt.plot(train_losses, 'o-', label='train loss')\n",
    "plt.plot(test_losses, 'o-', label='test loss')\n",
    "plt.legend();"
   ]
  },
  {
   "cell_type": "markdown",
   "id": "a87e33a9",
   "metadata": {},
   "source": [
    "### Metrics"
   ]
  },
  {
   "cell_type": "code",
   "execution_count": 18,
   "id": "275b6fb7",
   "metadata": {},
   "outputs": [],
   "source": [
    "def calc_embedding(id):\n",
    "    return embedder(torch.tensor([id2idx[id]])).detach().numpy()[0]"
   ]
  },
  {
   "cell_type": "code",
   "execution_count": 19,
   "id": "3c5ba17c",
   "metadata": {},
   "outputs": [],
   "source": [
    "df = df.merge(playlists_df,\n",
    "                   left_on='playlist_id',\n",
    "                   right_index=True)\n",
    "\n",
    "df['embedding'] = df['track_id'].apply(lambda id: tuple(calc_embedding(id)) if id in id2idx else None)\n",
    "df = df.dropna()"
   ]
  },
  {
   "cell_type": "code",
   "execution_count": 20,
   "id": "75b83e06",
   "metadata": {},
   "outputs": [],
   "source": [
    "faiss_df = df[['track_id', 'embedding']].drop_duplicates()\n",
    "faiss_df['idx'] = list(range(faiss_df.shape[0]))\n",
    "tracks_vecs = np.array(faiss_df['embedding'].to_list())"
   ]
  },
  {
   "cell_type": "code",
   "execution_count": 21,
   "id": "acc0d137",
   "metadata": {},
   "outputs": [
    {
     "name": "stdout",
     "output_type": "stream",
     "text": [
      "90138\n"
     ]
    }
   ],
   "source": [
    "index = faiss.IndexFlat(dim)   \n",
    "index.add(tracks_vecs)          \n",
    "print(index.ntotal)"
   ]
  },
  {
   "cell_type": "code",
   "execution_count": 22,
   "id": "9a37a67b",
   "metadata": {},
   "outputs": [],
   "source": [
    "def search_closest(vec, index, topn=9):\n",
    "    dist, idx = index.search(np.array([vec]), topn)\n",
    "    return idx[0]"
   ]
  },
  {
   "cell_type": "code",
   "execution_count": 23,
   "id": "a60fca81",
   "metadata": {},
   "outputs": [],
   "source": [
    "faiss_df['pred_neighbours_idx'] = faiss_df \\\n",
    "                                    .apply(lambda r: search_closest(r['embedding'], index), axis=1)\n",
    "\n",
    "faiss_idx2id = dict(zip(faiss_df.idx, faiss_df.track_id))\n",
    "\n",
    "faiss_df['pred_neighbours_id'] = faiss_df['pred_neighbours_idx'] \\\n",
    "                                    .apply(lambda neighbours: [faiss_idx2id[n] for n in neighbours])"
   ]
  },
  {
   "cell_type": "code",
   "execution_count": 24,
   "id": "17319e5e",
   "metadata": {},
   "outputs": [],
   "source": [
    "df = df.merge(faiss_df[['track_id', 'pred_neighbours_id']], on='track_id')\n",
    "df['neighbours'] = df.apply(lambda r: [n for n in r['neighbours'] if n != r['track_id']], axis=1)\n",
    "df['pred_neighbours_id'] = df.apply(lambda r: [n for n in r['pred_neighbours_id'] if n != r['track_id']], axis=1)"
   ]
  },
  {
   "cell_type": "code",
   "execution_count": 25,
   "id": "a2799d3a",
   "metadata": {},
   "outputs": [],
   "source": [
    "def precision_at_k(true, pred):\n",
    "    return len(set(pred) & set(true)) / len(pred)\n",
    "\n",
    "\n",
    "def recall_at_k(true, pred):\n",
    "    return len(set(pred) & set(true)) / len(true)\n",
    "\n",
    "\n",
    "triplet_precision = df.apply(lambda r: precision_at_k(r['neighbours'], r['pred_neighbours_id']), axis=1).mean()\n",
    "triplet_recall = df.apply(lambda r: recall_at_k(r['neighbours'], r['pred_neighbours_id']), axis=1).mean()"
   ]
  },
  {
   "cell_type": "code",
   "execution_count": 26,
   "id": "363b5350",
   "metadata": {},
   "outputs": [
    {
     "name": "stdout",
     "output_type": "stream",
     "text": [
      "Triplet precision: 0.003044\n",
      "Triplet recall: 0.000468\n"
     ]
    }
   ],
   "source": [
    "print(\"Triplet precision: {:.6f}\".format(triplet_precision))\n",
    "print(\"Triplet recall: {:.6f}\".format(triplet_recall))"
   ]
  }
 ],
 "metadata": {
  "kernelspec": {
   "display_name": "Python 3 (ipykernel)",
   "language": "python",
   "name": "python3"
  },
  "language_info": {
   "codemirror_mode": {
    "name": "ipython",
    "version": 3
   },
   "file_extension": ".py",
   "mimetype": "text/x-python",
   "name": "python",
   "nbconvert_exporter": "python",
   "pygments_lexer": "ipython3",
   "version": "3.9.6"
  }
 },
 "nbformat": 4,
 "nbformat_minor": 5
}
